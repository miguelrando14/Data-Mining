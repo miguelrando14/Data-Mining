{
 "cells": [
  {
   "cell_type": "markdown",
   "metadata": {},
   "source": [
    "# Practice Session 03: Find near-duplicates using shingling"
   ]
  },
  {
   "cell_type": "markdown",
   "metadata": {},
   "source": [
    "Author: <font color=\"blue\">Miguel Rando Ramirez</font>\n",
    "\n",
    "E-mail: <font color=\"blue\">miguelrando14@gmail.com</font>\n",
    "\n",
    "Date: <font color=\"blue\">8/10/24</font>"
   ]
  },
  {
   "cell_type": "code",
   "execution_count": 2,
   "metadata": {},
   "outputs": [],
   "source": [
    "import io\n",
    "import json\n",
    "import gzip\n",
    "import re\n",
    "import random\n",
    "import numpy as np\n",
    "import matplotlib.pyplot as plt\n",
    "from timeit import default_timer as timer\n",
    "\n",
    "import datetime"
   ]
  },
  {
   "cell_type": "code",
   "execution_count": 3,
   "metadata": {},
   "outputs": [
    {
     "name": "stdout",
     "output_type": "stream",
     "text": [
      "Read 10000 documents\n"
     ]
    }
   ],
   "source": [
    "# KEEP AS-IS\n",
    "\n",
    "# Input file\n",
    "INPUT_FILENAME = \"CovidLockdownCatalonia.json.gz\"\n",
    "\n",
    "# Array for storing messages\n",
    "messages = []\n",
    "\n",
    "# IMPORTANT:\n",
    "# 1. Set this to 1000 during development\n",
    "# 2. Set this to 10000 once you have completed the development, and answer part 5 with 10000\n",
    "# 3. Set this back to 1000 for delivering your code\n",
    "MAX_MESSAGES = 1000\n",
    "\n",
    "with gzip.open(INPUT_FILENAME, \"rt\", encoding=\"utf-8\") as input_file:\n",
    "    \n",
    "    messages_read = 0\n",
    "    for line in input_file:\n",
    "            \n",
    "        # Read message\n",
    "        tweet = json.loads(line)\n",
    "\n",
    "        # Keep only messages in Catalan\n",
    "        if tweet[\"lang\"] == \"ca\":\n",
    "            \n",
    "            messages_read += 1\n",
    "            \n",
    "            if messages_read <= MAX_MESSAGES:\n",
    "                author = tweet[\"user\"][\"screen_name\"]\n",
    "                message = tweet[\"full_text\"]\n",
    "                messages.append(message)\n",
    "\n",
    "print(\"Read %d documents\" % len(messages))"
   ]
  },
  {
   "cell_type": "markdown",
   "metadata": {},
   "source": [
    "# 1. Auxiliary functions"
   ]
  },
  {
   "cell_type": "markdown",
   "metadata": {},
   "source": [
    "<font size=\"+1\" color=\"red\">Replace this cell with your code for function \"jaccard_similarity\"</font>"
   ]
  },
  {
   "cell_type": "code",
   "execution_count": 4,
   "metadata": {},
   "outputs": [],
   "source": [
    "def jaccard_similarity(l1, l2):\n",
    "    \n",
    "    s1 = set(l1)\n",
    "    s2 = set(l2)\n",
    "    \n",
    "    union = s1.union(s2)\n",
    "    intersection = s1.intersection(s2)\n",
    "    \n",
    "    # vemos si la unión está vacía para evitar ZeroDivisionError\n",
    "    if len(union) == 0:\n",
    "        return 0.0  # si ambos conjuntos están vacíos retornamos 0.0\n",
    "    \n",
    "    jaccard = len(intersection)/len(union)\n",
    "    \n",
    "    return jaccard\n",
    "    "
   ]
  },
  {
   "cell_type": "markdown",
   "metadata": {},
   "source": [
    "<font size=\"+1\" color=\"red\">Replace this cell with your code testing \"jaccard_similarity\"</font>"
   ]
  },
  {
   "cell_type": "code",
   "execution_count": 5,
   "metadata": {},
   "outputs": [
    {
     "name": "stdout",
     "output_type": "stream",
     "text": [
      "0.5\n",
      "0.75\n",
      "0.0\n",
      "1.0\n"
     ]
    }
   ],
   "source": [
    "array1 = ['hola', 'me', 'llamo', 'Miguel']\n",
    "array2 = ['hola', 'Miguel']\n",
    "array3 = ['hola', 'me', 'llamo']\n",
    "array4= ['adios']\n",
    "array5 = ['hola', 'me', 'llamo', 'Miguel']\n",
    "\n",
    "\n",
    "\n",
    "\n",
    "print(jaccard_similarity(array1, array2))\n",
    "print(jaccard_similarity(array1, array3))\n",
    "print(jaccard_similarity(array1, array4))\n",
    "print(jaccard_similarity(array1, array5))"
   ]
  },
  {
   "cell_type": "markdown",
   "metadata": {},
   "source": [
    "<font size=\"+1\" color=\"red\">Replace this cell with your code for function \"clean\"</font>"
   ]
  },
  {
   "cell_type": "code",
   "execution_count": 6,
   "metadata": {},
   "outputs": [],
   "source": [
    "from unidecode import unidecode\n",
    "def clean(text):\n",
    "    text = re.sub(r'\\bRT\\b', '', text)\n",
    "    \n",
    "    text = text.lower()\n",
    "\n",
    "    text = re.sub(r'Ñ', 'n', text)\n",
    "    text = re.sub(r'ñ', 'n', text)\n",
    "    text = re.sub(r'ó', 'o', text)\n",
    "    text = re.sub(r'à', 'a', text)\n",
    "    text = re.sub(r'l·l', 'll', text)   \n",
    "    \n",
    "    text = re.sub(r'http\\S+', '', text)\n",
    "    text = re.sub(r'https\\S+', '', text)\n",
    "    \n",
    "    text = re.sub(r'[^a-zA-Z0-9\\s]', '', text)\n",
    "    \n",
    "    text = text.strip()\n",
    "    \n",
    "    text = re.sub(r'\\s+', ' ', text)\n",
    "\n",
    "\n",
    "    return text\n",
    "    "
   ]
  },
  {
   "cell_type": "markdown",
   "metadata": {},
   "source": [
    "<font size=\"+1\" color=\"red\">Replace this cell with your code testing function \"clean\"</font>"
   ]
  },
  {
   "cell_type": "code",
   "execution_count": 7,
   "metadata": {},
   "outputs": [
    {
     "name": "stdout",
     "output_type": "stream",
     "text": [
      "hola me llamo miguel vistame en o llmame manana\n",
      "buenos das como ests yo estoy bien gracias\n",
      "visita o y disfruta hasta luego senor\n",
      "no entiendo qu significa ll en cataln 100 seguro que es una letra\n",
      "llamar al nmero 1234567890 manana espero\n"
     ]
    }
   ],
   "source": [
    "text1 = \"RT ¡Hola! Me llamo Miguel, visítame en https://example.com o llámame mañana.\"\n",
    "cleaned_text1 = clean(text1)\n",
    "print(cleaned_text1)\n",
    "\n",
    "text2 = \"Buenos días, cómo estás? Yo   estoy bien, ¡gracias!\"\n",
    "cleaned_text2 = clean(text2)\n",
    "print(cleaned_text2) \n",
    "\n",
    "text3 = \"Visita http://mywebsite.com o https://anotherpage.com y disfruta! ¡Hasta luego, señor!\"\n",
    "cleaned_text3 = clean(text3)\n",
    "print(cleaned_text3) \n",
    "\n",
    "text4 = \"¡No entiendo! ¿Qué significa 'l·l' en catalán? 100% seguro que es una letra.\"\n",
    "cleaned_text4 = clean(text4)\n",
    "print(cleaned_text4)\n",
    "\n",
    "text5 = \"Llamaré al número 123-456-7890 mañana... ¡espero!    \"\n",
    "cleaned_text5 = clean(text5)\n",
    "print(cleaned_text5)\n"
   ]
  },
  {
   "cell_type": "markdown",
   "metadata": {},
   "source": [
    "# 2. Implement an n-gram extractor"
   ]
  },
  {
   "cell_type": "markdown",
   "metadata": {},
   "source": [
    "<font size=\"+1\" color=\"red\">Replace this cell with your code implementing function \"ngrams(text,size)\"</font>"
   ]
  },
  {
   "cell_type": "code",
   "execution_count": 8,
   "metadata": {},
   "outputs": [],
   "source": [
    "MIN_TOKEN_LENGTH = 3\n",
    "\n",
    "def ngrams(text, size):\n",
    "    tokens = clean(text).split()  \n",
    "    ngrams = []  \n",
    "    \n",
    "    # filtrar las palabras con al menos MIN_TOKEN_LENGTH caracteres\n",
    "    tokens = [word for word in tokens if len(word) >= MIN_TOKEN_LENGTH]\n",
    "\n",
    "    # generar los n-grams \n",
    "    for i in range(len(tokens) - size + 1):\n",
    "        ngrams.append(' '.join(tokens[i:i + size]))\n",
    "\n",
    "    return ngrams"
   ]
  },
  {
   "cell_type": "markdown",
   "metadata": {},
   "source": [
    "<font size=\"+1\" color=\"red\">Replace this cell with your code testing function \"ngrams\"</font>"
   ]
  },
  {
   "cell_type": "code",
   "execution_count": 9,
   "metadata": {},
   "outputs": [
    {
     "name": "stdout",
     "output_type": "stream",
     "text": [
      "Clam per la suspensió dels desnonaments en plena crisi pel coronavirus https://t.co/0g1AtSELwl\n",
      "['clam per suspensio', 'per suspensio dels', 'suspensio dels desnonaments', 'dels desnonaments plena', 'desnonaments plena crisi', 'plena crisi pel', 'crisi pel coronavirus']\n"
     ]
    }
   ],
   "source": [
    "print(messages[990])\n",
    "print(ngrams(messages[990], 3))"
   ]
  },
  {
   "cell_type": "markdown",
   "metadata": {},
   "source": [
    "# 3. Estimation of brute force all-pairs method"
   ]
  },
  {
   "cell_type": "code",
   "execution_count": 49,
   "metadata": {},
   "outputs": [],
   "source": [
    "# LEAVE AS-IS\n",
    "\n",
    "def time_brute_force_similarities(messages, limit, ngram_size):\n",
    "    if limit > len(messages):\n",
    "        raise ValueError(\"Limit should be less than or equal than the number of messages\")\n",
    "        \n",
    "    # Start a timer\n",
    "    start = timer()\n",
    "\n",
    "    # Iterate through document identifiers\n",
    "    for docid1 in range(np.min([len(messages), limit])):\n",
    "\n",
    "        # Clean document 1 and extract ngrams\n",
    "        doc1 = clean(messages[docid1])\n",
    "        ngrams1 = ngrams(doc1, ngram_size)\n",
    "\n",
    "        # Iterate through document identifiers larger than doc2\n",
    "        for docid2 in range(docid1+1, np.min([len(messages), limit])):\n",
    "                         \n",
    "            # Clean document 2 and extract ngrams\n",
    "            doc2 = clean(messages[docid2])\n",
    "            ngrams2 = ngrams(doc2, ngram_size)\n",
    "\n",
    "            # Compute similarity\n",
    "            similarity = jaccard_similarity(ngrams1, ngrams2)\n",
    "\n",
    "    end = timer()\n",
    "    return(end - start)"
   ]
  },
  {
   "cell_type": "markdown",
   "metadata": {},
   "source": [
    "<font size=\"+1\" color=\"red\">Replace this cell with your code for generating the requested plot. Remember to add a title and label for the x and y axis.</font>"
   ]
  },
  {
   "cell_type": "code",
   "execution_count": 10,
   "metadata": {},
   "outputs": [],
   "source": [
    "%matplotlib inline\n"
   ]
  },
  {
   "cell_type": "code",
   "execution_count": 12,
   "metadata": {
    "scrolled": true
   },
   "outputs": [
    {
     "name": "stdout",
     "output_type": "stream",
     "text": [
      "[0.0014161020000074132, 1.0047564739999757, 3.6331996950000303, 7.901694849000023, 14.130881159000012]\n"
     ]
    },
    {
     "data": {
      "image/png": "[encoded data removed]",
      "text/plain": [
       "<Figure size 432x288 with 1 Axes>"
      ]
     },
     "metadata": {
      "needs_background": "light"
     },
     "output_type": "display_data"
    }
   ],
   "source": [
    "# de 1 a 1001 incrementos de 200\n",
    "limits = range(1, 1001, 200)\n",
    "times = []  # Lista para almacenar los tiempos\n",
    "\n",
    "# calculamos el tiempo para cada límite de mensajes\n",
    "for limit in limits:\n",
    "    t = time_brute_force_similarities(messages, limit, ngram_size=5)\n",
    "    times.append(t)\n",
    "\n",
    "plt.plot(limits, times)\n",
    "\n",
    "# Añadimos título y etiquetas a los ejes\n",
    "plt.title('Tiempo de comparación de mensajes vs. Cantidad de mensajes')\n",
    "plt.xlabel('Cantidad de mensajes a comparar')\n",
    "plt.ylabel('Tiempo (segundos)')\n",
    "\n",
    "plt.show()\n"
   ]
  },
  {
   "cell_type": "markdown",
   "metadata": {},
   "source": [
    "<font size=\"+1\" color=\"red\">Replace this cell with (1) a brief commmentary about what you see in this plot, and (2) your estimate for how long it would take to run the brute force similarity computations for the entire input matrix. Express your estimation in hours, minutes, and seconds. Justify precisely your calculations.</font>"
   ]
  },
  {
   "cell_type": "markdown",
   "metadata": {},
   "source": [
    "We can see that the increment of the time is exponential. I dont know how to calculate the time for 35.500 messages, but be can see that in each step of 200 messages the times encreases the double more or less. So we will need 178 steps (aprox), then they are 174 steps left. Then we do 14 x (2^174) = 3.35 x 10^53 secs. wich would be 9.31 x 10^49 h (aprox).\n",
    "\n",
    "I dont know if the computation is okay."
   ]
  },
  {
   "cell_type": "markdown",
   "metadata": {},
   "source": [
    "# 4. Computing the doc-ngram matrix"
   ]
  },
  {
   "cell_type": "markdown",
   "metadata": {},
   "source": [
    "Now we will compute a matrix in which every row is an ngram, and every column is a document.\n",
    "\n",
    "In real-world implementations, this is done by hashing the ngrams and then every row is an ngram *hash*; in this practice we will skip that step and work directly with one ngram per row, which is conceptually the same and easier to code.\n",
    "\n",
    "<font size=\"-1\" color=\"gray\">(Remove this cell when delivering.)</font>"
   ]
  },
  {
   "cell_type": "markdown",
   "metadata": {},
   "source": [
    "## 4.1 Create list of all ngrams"
   ]
  },
  {
   "cell_type": "markdown",
   "metadata": {},
   "source": [
    "Implement code to create:\n",
    "\n",
    "* the dictionary `ngram_to_index`, which should convert an ngram to an index (a row number),\n",
    "* the dictionary `index_to_ngram`, which should convert an index to an ngram, and\n",
    "* the variable `num_distinct_ngrams` which should contain the number of distinct ngrams.\n",
    "\n",
    "You can use the following template:\n",
    "\n",
    "```python\n",
    "NGRAM_SIZE = 4\n",
    "\n",
    "ngram_to_index = {}\n",
    "index_to_ngram = {}\n",
    "next_index = 0\n",
    "\n",
    "for message in messages:\n",
    "    all_ngrams = ngrams(message, NGRAM_SIZE)\n",
    "    for ngram in all_ngrams:\n",
    "        # YOUR CODE HERE\n",
    "            \n",
    "num_distinct_ngrams = next_index\n",
    "\n",
    "print(\"There are %d distinct ngrams in the %d documents\" % (num_distinct_ngrams, len(messages)))\n",
    "```\n",
    "\n",
    "Note that the total number of n-grams may vary depending on ho you `clean()` text. In this dataset it should be about 10 times the number of documents.\n",
    "\n",
    "<font size=\"-1\" color=\"gray\">(Remove this cell when delivering.)</font>"
   ]
  },
  {
   "cell_type": "markdown",
   "metadata": {},
   "source": [
    "<font size=\"+1\" color=\"red\">Replace this cell with your code for creating the ngram_to_index dictionary.</font>"
   ]
  },
  {
   "cell_type": "code",
   "execution_count": 10,
   "metadata": {},
   "outputs": [
    {
     "name": "stdout",
     "output_type": "stream",
     "text": [
      "There are 54083 distinct ngrams in the 10000 documents\n"
     ]
    }
   ],
   "source": [
    "NGRAM_SIZE = 4\n",
    "\n",
    "ngram_to_index = {}\n",
    "index_to_ngram = {}\n",
    "next_index = 0\n",
    "\n",
    "for message in messages:\n",
    "    all_ngrams = ngrams(message, NGRAM_SIZE) \n",
    "    for ngram in all_ngrams:\n",
    "        if ngram not in ngram_to_index:  \n",
    "            ngram_to_index[ngram] = next_index  # si el n-gram no estaba en el diccionario, se añade\n",
    "            index_to_ngram[next_index] = ngram  #se guarda tambien de forma inversa\n",
    "            next_index += 1  \n",
    "\n",
    "num_distinct_ngrams = next_index\n",
    "\n",
    "# Output the result\n",
    "print(\"There are %d distinct ngrams in the %d documents\" % (num_distinct_ngrams, len(messages)))"
   ]
  },
  {
   "cell_type": "markdown",
   "metadata": {},
   "source": [
    "Test your function by printing the `ngram_to_index` of the strings `els restaurants han reduir` and `supera fins tot mateix`. The exact index varies,  depending on how you `clean()` text. What is important is that when you print the `index_to_ngram` of the returned index, it should give you the same string. \n",
    "\n",
    "<font size=\"-1\" color=\"gray\">(Remove this cell when delivering.)</font>"
   ]
  },
  {
   "cell_type": "markdown",
   "metadata": {},
   "source": [
    "<font size=\"+1\" color=\"red\">Replace this cell with your code for testing the ngram_to_index structure.</font>"
   ]
  },
  {
   "cell_type": "code",
   "execution_count": 11,
   "metadata": {},
   "outputs": [
    {
     "name": "stdout",
     "output_type": "stream",
     "text": [
      "N-grama: 'els restaurants han reduir', Índice: 14, N-grama recuperado: 'els restaurants han reduir'\n",
      "N-grama: 'supera fins tot mateix', Índice: 36, N-grama recuperado: 'supera fins tot mateix'\n"
     ]
    }
   ],
   "source": [
    "# Definir el texto para probar\n",
    "test_strings = [\n",
    "    \"els restaurants han reduir\",\n",
    "    \"supera fins tot mateix\"\n",
    "]\n",
    "\n",
    "# limpiar \n",
    "cleaned_test_strings = [clean(s) for s in test_strings]  \n",
    "\n",
    "# obtener los n-gramas de los strings limpios\n",
    "for cleaned_string in cleaned_test_strings:\n",
    "    ngrams_list = ngrams(cleaned_string, NGRAM_SIZE)\n",
    "    \n",
    "    for ngram in ngrams_list:\n",
    "        if ngram in ngram_to_index:\n",
    "            index = ngram_to_index[ngram]\n",
    "            # Imprimir el n-grama, su índice y el n-grama recuperado usando index_to_ngram\n",
    "            retrieved_ngram = index_to_ngram[index]\n",
    "            print(f\"N-grama: '{ngram}', Índice: {index}, N-grama recuperado: '{retrieved_ngram}'\")"
   ]
  },
  {
   "cell_type": "markdown",
   "metadata": {},
   "source": [
    "## 2.2 Create table ngrams x documents"
   ]
  },
  {
   "cell_type": "markdown",
   "metadata": {},
   "source": [
    "Now we will create a boolean matrix named `M_ngram_doc`, where each row should be an n-gram, and each column should be a document.\n",
    "\n",
    "There might be documents having less than *NGRAM_SIZE* words and thus containing no shingles. You can skip those documents above (when reading the file), or handle them here.\n",
    "\n",
    "The next code creates an empty matrix. Leave as-is. If you run out of memory, limit the number of documents you read at the beginning of this file, for instance, read only the first 10,000 or the first 7,000 documents, and then try again.\n",
    "\n",
    "<font size=\"-1\" color=\"gray\">(Remove this cell when delivering.)</font>"
   ]
  },
  {
   "cell_type": "code",
   "execution_count": 12,
   "metadata": {},
   "outputs": [
    {
     "name": "stdout",
     "output_type": "stream",
     "text": [
      "Matrix dimensions: 54083 rows (distinct shingles) x 10000 columns (distinct documents)\n"
     ]
    }
   ],
   "source": [
    "# LEAVE AS-IS\n",
    "\n",
    "# Create dense matrix in which every cell contains the value \"False\"\n",
    "M_ngram_doc = np.full((num_distinct_ngrams, len(messages)), False)\n",
    "\n",
    "# Print the number of rows and columns of this matrix\n",
    "# numpy.matrix.shape is a tuple, shape[0] is the number of rows, shape[1] the number of columns\n",
    "print(\"Matrix dimensions: %d rows (distinct shingles) x %d columns (distinct documents)\" % M_ngram_doc.shape)"
   ]
  },
  {
   "cell_type": "markdown",
   "metadata": {},
   "source": [
    "Complete the matrix `M_ngram_doc` so that position i, j (row, column) holds a `True` if document j contains ngram i, otherwise holds `False`.\n",
    "\n",
    "You can use the following template:\n",
    "\n",
    "```python\n",
    "for docid in range(len(messages)):\n",
    "    message = messages[docid]\n",
    "    all_ngrams = ngrams(message, ngram_size)\n",
    "    for ngram in all_ngrams:\n",
    "        # replace this comment with your code\n",
    "```\n",
    "\n",
    "<font size=\"-1\" color=\"gray\">(Remove this cell when delivering.)</font>"
   ]
  },
  {
   "cell_type": "markdown",
   "metadata": {},
   "source": [
    "<font size=\"+1\" color=\"red\">Replace this cell with your code for filling the M_ngram_doc matrix.</font>"
   ]
  },
  {
   "cell_type": "code",
   "execution_count": 13,
   "metadata": {
    "scrolled": true
   },
   "outputs": [],
   "source": [
    "for docid in range(len(messages)):\n",
    "    message = messages[docid]\n",
    "    all_ngrams = ngrams(message, NGRAM_SIZE)\n",
    "    for ngram in all_ngrams:\n",
    "        if ngram in ngram_to_index:\n",
    "            index = ngram_to_index[ngram]  # get the index for the n-gram\n",
    "            M_ngram_doc[index, docid] = True  # Set the matrix cell to True"
   ]
  },
  {
   "cell_type": "markdown",
   "metadata": {},
   "source": [
    "Measure the density of this matrix, as a percentage. This is the number of non-zeroes in the matrix as a percentage of the number of cells of the matrix.\n",
    "\n",
    "<font size=\"-1\" color=\"gray\">(Remove this cell when delivering.)</font>"
   ]
  },
  {
   "cell_type": "markdown",
   "metadata": {},
   "source": [
    "<font size=\"+1\" color=\"red\">Replace this cell with your code for printing the density of the M_ngram_doc matrix as a percentage. Use 4 decimals.</font>"
   ]
  },
  {
   "cell_type": "code",
   "execution_count": 14,
   "metadata": {},
   "outputs": [
    {
     "name": "stdout",
     "output_type": "stream",
     "text": [
      "Density of the matrix: 0.0203%\n"
     ]
    }
   ],
   "source": [
    "# count the number of non-zero entries (True values)\n",
    "num_non_zero_entries = np.count_nonzero(M_ngram_doc)\n",
    "\n",
    "# calculate total number of entries in the matrix\n",
    "total_entries = M_ngram_doc.shape[0] * M_ngram_doc.shape[1]\n",
    "\n",
    "# calculate the  percentage\n",
    "density_percentage = (num_non_zero_entries / total_entries) * 100\n",
    "\n",
    "print(f\"Density of the matrix: {density_percentage:.4f}%\")"
   ]
  },
  {
   "cell_type": "markdown",
   "metadata": {},
   "source": [
    "Print a couple of documents (columns). All columns should be very sparse, i.e., mostly zeroes. For instance, for docid 9602 you should print something like this:\n",
    "\n",
    "```\n",
    "Positions of non-zeros in column of docid 16 of M_ngram_doc\n",
    "\n",
    "Clean message:\n",
    " emergenciescat es demana a la ciutadania limitar al maxim i si es pot evitar desplaaments de cap de setmana tot el que sigui ma\n",
    "\n",
    "Non-zeros in corresponding row:\n",
    " ['177 (emergenciescat demana ciutadania limitar)', '178 (demana ciutadania limitar maxim)', '179 (ciutadania limitar maxim pot)', '180 (limitar maxim pot evitar)', '181 (maxim pot evitar desplaaments)', '182 (pot evitar desplaaments cap)', '183 (evitar desplaaments cap setmana)', '184 (desplaaments cap setmana tot)', '185 (cap setmana tot que)', '186 (setmana tot que sigui)']\n",
    " ```\n",
    "\n",
    "Note that the specific ngram ids you will get depend on your cleanup process, and that the output is in ascending order of ngram number, not in the same ordering in which the ngrams appear in the message.\n",
    "\n",
    "<font size=\"-1\" color=\"gray\">(Remove this cell when delivering.)</font>"
   ]
  },
  {
   "cell_type": "markdown",
   "metadata": {},
   "source": [
    "<font size=\"+1\" color=\"red\">Replace this cell with your code for printing rows 9602 and 941 of the M_ngram_doc matrix.</font>"
   ]
  },
  {
   "cell_type": "code",
   "execution_count": 15,
   "metadata": {},
   "outputs": [
    {
     "name": "stdout",
     "output_type": "stream",
     "text": [
      "Positions of non-zeros in column of docid 9602 of M_ngram_doc\n",
      "\n",
      "Clean message:\n",
      "emergenciescat qu puc fer i que no faqs del coronavirus a 14 de mar si us plau demanem difusio\n",
      "\n",
      "Non-zeros in corresponding row:\n",
      "['31120 (emergenciescat puc fer que)', '31121 (puc fer que faqs)', '31122 (fer que faqs del)', '31123 (que faqs del coronavirus)', '31124 (faqs del coronavirus mar)', '31125 (del coronavirus mar plau)', '31126 (coronavirus mar plau demanem)', '31127 (mar plau demanem difusio)']\n",
      "Positions of non-zeros in column of docid 941 of M_ngram_doc\n",
      "\n",
      "Clean message:\n",
      "hospiolot usem de forma responsable els recursos sanitaris 061 urgncies per coronavirus i sanitaries 012 consultes general\n",
      "\n",
      "Non-zeros in corresponding row:\n",
      "['1052 (usem forma responsable els)', '1053 (forma responsable els recursos)', '1054 (responsable els recursos sanitaris)', '1055 (els recursos sanitaris 061)', '1056 (recursos sanitaris 061 urgncies)', '1057 (sanitaris 061 urgncies per)', '1058 (061 urgncies per coronavirus)', '1059 (urgncies per coronavirus sanitaries)', '1060 (per coronavirus sanitaries 012)', '1061 (coronavirus sanitaries 012 consultes)', '7734 (hospiolot usem forma responsable)', '7735 (sanitaries 012 consultes general)']\n"
     ]
    }
   ],
   "source": [
    "doc_ids_to_print = [9602, 941] \n",
    "\n",
    "for docid in doc_ids_to_print:\n",
    "    # Extract the cleaned message for the document\n",
    "    message = messages[docid]  # Get the original message\n",
    "    cleaned_message = clean(message)  # Clean the message\n",
    "\n",
    "    # Find the non-zero positions in the corresponding column of M_ngram_doc\n",
    "    non_zero_indices = np.where(M_ngram_doc[:, docid])[0]  # Get indices of True values\n",
    "\n",
    "    # Gather the corresponding n-grams\n",
    "    non_zero_ngrams = [f\"{index} ({index_to_ngram[index]})\" for index in non_zero_indices]\n",
    "\n",
    "    # Print results\n",
    "    print(f\"Positions of non-zeros in column of docid {docid} of M_ngram_doc\\n\")\n",
    "    print(\"Clean message:\")\n",
    "    print(cleaned_message)\n",
    "    print(\"\\nNon-zeros in corresponding row:\")\n",
    "    print(non_zero_ngrams)\n"
   ]
  },
  {
   "cell_type": "markdown",
   "metadata": {},
   "source": [
    "# 3. Implement a permutation generator"
   ]
  },
  {
   "cell_type": "markdown",
   "metadata": {},
   "source": [
    "Implement the function `random_permutation(k)`, which should generate a random permutation of the array `[0, 2, 3, ..., k-1]`. Tip: the function [random.shuffle](https://docs.python.org/3/library/random.html#random.shuffle) might be useful. If you want to use `range(...)`, which returns an iterator, you will need to convert the iterator to a list by using `list(range(...))`.\n",
    "\n",
    "Remember to test your code. For instance, a permutation of 20 elements should look like this:\n",
    "\n",
    "```\n",
    "[14, 10, 0, 8, 4, 12, 5, 19, 6, 9, 15, 13, 16, 2, 17, 11, 7, 3, 18, 1]\n",
    "```\n",
    "\n",
    "Every number appears only once, and all numbers from 0 to 19 appear in the permutation.\n",
    "\n",
    "<font size=\"-1\" color=\"gray\">(Remove this cell when delivering.)</font>"
   ]
  },
  {
   "cell_type": "markdown",
   "metadata": {},
   "source": [
    "<font size=\"+1\" color=\"red\">Replace this cell with your code for \"random_permutation\"</font>"
   ]
  },
  {
   "cell_type": "code",
   "execution_count": 16,
   "metadata": {},
   "outputs": [],
   "source": [
    "import random\n",
    "\n",
    "def random_permutation(k):\n",
    "    arr = list(range(k))     # create a list with numbers from 0 to k-1\n",
    "    random.shuffle(arr)\n",
    "    return arr\n"
   ]
  },
  {
   "cell_type": "code",
   "execution_count": 17,
   "metadata": {},
   "outputs": [
    {
     "name": "stdout",
     "output_type": "stream",
     "text": [
      "Random permutation of length 20 : [3, 4, 5, 13, 7, 11, 6, 18, 2, 8, 10, 0, 12, 16, 17, 15, 14, 19, 9, 1]\n"
     ]
    }
   ],
   "source": [
    "# Test the function\n",
    "k = 20\n",
    "permutation = random_permutation(k)\n",
    "\n",
    "print(\"Random permutation of length\", k, \":\", permutation)\n",
    "\n"
   ]
  },
  {
   "cell_type": "markdown",
   "metadata": {},
   "source": [
    "Further test this by applying the same permutation on two lists. The code below, which you must leave as-is,  should print both lists in the same ordering, so that *alpha* is in the same position of *a*, *beta* in the same position as *b*, and so on.\n",
    "\n",
    "<font size=\"-1\" color=\"gray\">(Remove this cell when delivering.)</font>"
   ]
  },
  {
   "cell_type": "code",
   "execution_count": 18,
   "metadata": {},
   "outputs": [
    {
     "name": "stdout",
     "output_type": "stream",
     "text": [
      "Test one permutation:\n",
      "['4 (test4)', '2 (test2)', '3 (test3)', '5 (test5)', '1 (test1)']\n",
      "['4 (delta)', '2 (gamma)', '3 (beta)', '5 (epsilon)', '1 (alpha)']\n",
      "\n",
      "Test another permutation\n",
      "['2 (test2)', '5 (test5)', '3 (test3)', '4 (test4)', '1 (test1)']\n",
      "['2 (gamma)', '5 (epsilon)', '3 (beta)', '4 (delta)', '1 (alpha)']\n"
     ]
    }
   ],
   "source": [
    "# LEAVE AS-IS\n",
    "\n",
    "# Permute a list according to a permutation\n",
    "def permuter(original_list, permutation):\n",
    "    permuted_list = []\n",
    "    for index in permutation:\n",
    "        permuted_list.append(original_list[index])\n",
    "    return permuted_list\n",
    "\n",
    "# Code for testing permutations\n",
    "original_list_1 = [\"1 (test1)\", \"2 (test2)\", \"3 (test3)\", \"4 (test4)\", \"5 (test5)\"]\n",
    "original_list_2 = [\"1 (alpha)\", \"2 (gamma)\", \"3 (beta)\", \"4 (delta)\", \"5 (epsilon)\"]\n",
    "\n",
    "print(\"Test one permutation:\")\n",
    "permutation_1 = random_permutation(5)\n",
    "print(permuter(original_list_1, permutation_1))\n",
    "print(permuter(original_list_2, permutation_1))\n",
    "\n",
    "print()\n",
    "\n",
    "print(\"Test another permutation\")\n",
    "permutation_2 = random_permutation(5)\n",
    "print(permuter(original_list_1, permutation_2))\n",
    "print(permuter(original_list_2, permutation_2))"
   ]
  },
  {
   "cell_type": "markdown",
   "metadata": {},
   "source": [
    "# 4. Compute the signature of each document"
   ]
  },
  {
   "cell_type": "markdown",
   "metadata": {},
   "source": [
    "Now comes the core of the algorithm. We will create a new matrix `M_signature_doc` having a small number of rows (the *signature size*), which will be equivalent to the number of permutations we use. The number of columns will continue being the number of documents.\n",
    "\n",
    "First, we create the permutations and store them in an array of arrays named `permutations`, with the following code, which you should leave as-is.\n",
    "\n",
    "<font size=\"-1\" color=\"gray\">(Remove this cell when delivering.)</font>"
   ]
  },
  {
   "cell_type": "code",
   "execution_count": 19,
   "metadata": {},
   "outputs": [
    {
     "name": "stdout",
     "output_type": "stream",
     "text": [
      "Permutation 0: 27939, 39412, 42070, 41193, ...\n",
      "Permutation 1: 10686, 6494, 52320, 31859, ...\n",
      "Permutation 2: 41341, 10766, 36928, 25695, ...\n",
      "Permutation 3: 48455, 34406, 28217, 29888, ...\n",
      "Permutation 4: 26631, 53815, 28757, 814, ...\n"
     ]
    }
   ],
   "source": [
    "# Leave this code as-is\n",
    "\n",
    "NUM_PERMUTATIONS = 5\n",
    "\n",
    "permutations = []\n",
    "\n",
    "# Create the permutations\n",
    "for i in range(NUM_PERMUTATIONS):\n",
    "    permutation = random_permutation(num_distinct_ngrams)\n",
    "    permutations.append(random_permutation(num_distinct_ngrams))\n",
    "    \n",
    "# Visualize the permutations by printing their first 4 elements\n",
    "for i in range(len(permutations)):\n",
    "    permutation = permutations[i]\n",
    "    print(\"Permutation %d: %d, %d, %d, %d, ...\" % (i,\n",
    "                permutation[0], permutation[1], permutation[2], permutation[3] ))"
   ]
  },
  {
   "cell_type": "markdown",
   "metadata": {},
   "source": [
    "Now, you implement the signature construction. The matrix `M_signature_doc` should contain in row *i*, column *j*, the first ngram (the \"minimum\" one) that is present in a column (document), according to the order given by a permutation.\n",
    "\n",
    "This process may take a few minutes to be completed. You can use the following template:\n",
    "\n",
    "```python\n",
    "M_signature_doc = np.full((NUM_PERMUTATIONS, len(messages)), np.nan)\n",
    "\n",
    "# Create permutations\n",
    "for permutation_num in range(NUM_PERMUTATIONS):\n",
    "    print(\"Creating signatures for permutation %d/%d\" % (permutation_num+1, NUM_PERMUTATIONS))\n",
    "    permutation = permutations[permutation_num]\n",
    "    for docid in range(len(messages)):\n",
    "        if docid % 1000 == 0:\n",
    "            print(\"- Scanning document %d of %d\" % (docid, len(messages)))\n",
    "        # replace this comment with your code\n",
    "```\n",
    "\n",
    "<font size=\"-1\" color=\"gray\">(Remove this cell when delivering.)</font>"
   ]
  },
  {
   "cell_type": "markdown",
   "metadata": {},
   "source": [
    "The following function, which you should leave as-is, finds the first n-gram that appears in a document, according to the ordering defined by a permutation.\n",
    "\n",
    "<font size=\"-1\" color=\"gray\">(Remove this cell when delivering.)</font>"
   ]
  },
  {
   "cell_type": "code",
   "execution_count": 20,
   "metadata": {},
   "outputs": [],
   "source": [
    "# LEAVE AS-IS\n",
    "\n",
    "# Find the first ngram in a document, according to a permutation\n",
    "def find_first_one(docid, permutation):\n",
    "    for shingle_id in permutation:\n",
    "        if M_ngram_doc[shingle_id, docid] == True:\n",
    "            return shingle_id\n",
    "    return -1"
   ]
  },
  {
   "cell_type": "markdown",
   "metadata": {},
   "source": [
    "<font size=\"+1\" color=\"red\">Replace this cell with your code for creating M_signature_doc</font>"
   ]
  },
  {
   "cell_type": "code",
   "execution_count": 21,
   "metadata": {},
   "outputs": [
    {
     "name": "stdout",
     "output_type": "stream",
     "text": [
      "Creating signatures for permutation 1/5\n",
      "- Scanning document 0 of 10000\n",
      "- Scanning document 1000 of 10000\n",
      "- Scanning document 2000 of 10000\n",
      "- Scanning document 3000 of 10000\n",
      "- Scanning document 4000 of 10000\n",
      "- Scanning document 5000 of 10000\n",
      "- Scanning document 6000 of 10000\n",
      "- Scanning document 7000 of 10000\n",
      "- Scanning document 8000 of 10000\n",
      "- Scanning document 9000 of 10000\n",
      "Creating signatures for permutation 2/5\n",
      "- Scanning document 0 of 10000\n",
      "- Scanning document 1000 of 10000\n",
      "- Scanning document 2000 of 10000\n",
      "- Scanning document 3000 of 10000\n",
      "- Scanning document 4000 of 10000\n",
      "- Scanning document 5000 of 10000\n",
      "- Scanning document 6000 of 10000\n",
      "- Scanning document 7000 of 10000\n",
      "- Scanning document 8000 of 10000\n",
      "- Scanning document 9000 of 10000\n",
      "Creating signatures for permutation 3/5\n",
      "- Scanning document 0 of 10000\n",
      "- Scanning document 1000 of 10000\n",
      "- Scanning document 2000 of 10000\n",
      "- Scanning document 3000 of 10000\n",
      "- Scanning document 4000 of 10000\n",
      "- Scanning document 5000 of 10000\n",
      "- Scanning document 6000 of 10000\n",
      "- Scanning document 7000 of 10000\n",
      "- Scanning document 8000 of 10000\n",
      "- Scanning document 9000 of 10000\n",
      "Creating signatures for permutation 4/5\n",
      "- Scanning document 0 of 10000\n",
      "- Scanning document 1000 of 10000\n",
      "- Scanning document 2000 of 10000\n",
      "- Scanning document 3000 of 10000\n",
      "- Scanning document 4000 of 10000\n",
      "- Scanning document 5000 of 10000\n",
      "- Scanning document 6000 of 10000\n",
      "- Scanning document 7000 of 10000\n",
      "- Scanning document 8000 of 10000\n",
      "- Scanning document 9000 of 10000\n",
      "Creating signatures for permutation 5/5\n",
      "- Scanning document 0 of 10000\n",
      "- Scanning document 1000 of 10000\n",
      "- Scanning document 2000 of 10000\n",
      "- Scanning document 3000 of 10000\n",
      "- Scanning document 4000 of 10000\n",
      "- Scanning document 5000 of 10000\n",
      "- Scanning document 6000 of 10000\n",
      "- Scanning document 7000 of 10000\n",
      "- Scanning document 8000 of 10000\n",
      "- Scanning document 9000 of 10000\n",
      "Signature matrix dimensions: 5 rows (permutations) x 10000 columns (documents)\n"
     ]
    }
   ],
   "source": [
    "M_signature_doc = np.full((NUM_PERMUTATIONS, len(messages)), np.nan)\n",
    "\n",
    "# Loop through each permutation\n",
    "for permutation_num in range(NUM_PERMUTATIONS):\n",
    "    print(\"Creating signatures for permutation %d/%d\" % (permutation_num + 1, NUM_PERMUTATIONS))\n",
    "    permutation = permutations[permutation_num]\n",
    "\n",
    "    # Loop through each document\n",
    "    for docid in range(len(messages)):\n",
    "        if docid % 1000 == 0:\n",
    "            print(\"- Scanning document %d of %d\" % (docid, len(messages)))\n",
    "        \n",
    "        # Find the first n-gram for this document according to the permutation\n",
    "        first_ngram_id = find_first_one(docid, permutation)\n",
    "        M_signature_doc[permutation_num, docid] = first_ngram_id\n",
    "\n",
    "# Print the dimensions of the signature matrix\n",
    "print(\"Signature matrix dimensions: %d rows (permutations) x %d columns (documents)\" % M_signature_doc.shape)"
   ]
  },
  {
   "cell_type": "markdown",
   "metadata": {},
   "source": [
    "Test your code by checking the signatures of two documents that are near-duplicates,using the next code, which you should leave as-is. Being near-duplicates, we expect these should have many ngrams in common, and hence, with high probability they will have many elements in common in their signatures.\n",
    "\n",
    "Note that your ngrams and signatures vectors might be different than what we show here, given the differences in cleaning procedures and the randomness of the permutations.\n",
    "\n",
    "<font size=\"-1\" color=\"gray\">(Remove this cell when delivering.)</font>"
   ]
  },
  {
   "cell_type": "code",
   "execution_count": 22,
   "metadata": {},
   "outputs": [
    {
     "name": "stdout",
     "output_type": "stream",
     "text": [
      "Document #21\n",
      "Message       : El problema és económic... ja no és només que primi lo económic a lo personal, és que fins i tot en això el @govern s'equivoca, doncs al final la factura que s'haurà de pagar serà més gran.... ja és més gran del que hauria sigut de fer les coses bé i a temps. https://t.co/jFXHAMZHO0\n",
      "Clean message : el problema s economic ja no s noms que primi lo economic a lo personal s que fins i tot en aix el govern sequivoca doncs al final la factura que shaura de pagar sera ms gran ja s ms gran del que hauria sigut de fer les coses b i a temps\n",
      "Ngrams        : [228, 229, 230, 231, 232, 233, 234, 235, 236, 237, 238, 239, 240, 241, 242, 243, 244, 245, 246, 247, 248, 249, 250, 251, 252, 253, 254]\n",
      "Signature     : [234.0, 241.0, 242.0, 228.0, 231.0]\n",
      "\n",
      "Document #24\n",
      "Message       : RT @QuimTorraiPla: Seguiu les recomanacions: eviteu qualsevol desplaçament al màxim\n",
      "Clean message : quimtorraipla seguiu les recomanacions eviteu qualsevol desplaament al maxim\n",
      "Ngrams        : [274, 275, 276, 277, 278]\n",
      "Signature     : [276.0, 278.0, 276.0, 275.0, 276.0]\n"
     ]
    }
   ],
   "source": [
    "# Leave this code as-is\n",
    "\n",
    "def extract_ngrams(docid):\n",
    "    return [x for x in range(num_distinct_ngrams) if M_ngram_doc[x, docid] == True]\n",
    "\n",
    "def extract_signature(docid):\n",
    "    return [M_signature_doc[x, docid] for x in range(NUM_PERMUTATIONS)]\n",
    "\n",
    "def print_sig(messages, M_ngram_doc, M_signature_doc, i):\n",
    "    print(\"Document #%d\" % i)\n",
    "    print(\"Message       : %s\" % messages[i])\n",
    "    print(\"Clean message : %s\" % clean(messages[i]))\n",
    "    print(\"Ngrams        : %s\" % extract_ngrams(i))\n",
    "    print(\"Signature     : %s\" % extract_signature(i))\n",
    "\n",
    "# Print two messages and their signatures\n",
    "\n",
    "print_sig(messages, M_ngram_doc, M_signature_doc, 21 )\n",
    "print()\n",
    "print_sig(messages, M_ngram_doc, M_signature_doc, 24 )"
   ]
  },
  {
   "cell_type": "markdown",
   "metadata": {},
   "source": [
    "# 5. Compare all pairs of signatures"
   ]
  },
  {
   "cell_type": "markdown",
   "metadata": {},
   "source": [
    "Now we are ready to compare all documents by their signatures, instead of by their content.\n",
    "\n",
    "We will consider that if two documents have *similarity == 1.0* they are a *full signature match*, and if two documents have *0.2 < similarity < 1.0* they are a *partial signature match*. In both cases, this may mean the documents are duplicates or near duplicates.\n",
    "\n",
    "Write code to compare all pairs of documents. Use the following template:\n",
    "\n",
    "```python\n",
    "is_possible_duplicate = {}\n",
    "\n",
    "# Iterate through all documents\n",
    "for docid1 in range(len(messages)):\n",
    "\n",
    "     # Do not examine again a document that is a possible duplicate\n",
    "    if docid not in is_possible_duplicate:\n",
    "\n",
    "        # Counters for full and partial signature matches\n",
    "        count_sig_full_matches = 0\n",
    "        count_sig_partial_matches = 0\n",
    "\n",
    "        # Extract the signature of the doc1\n",
    "        signature1 = extract_signature(docid1)\n",
    "        if docid1 % 500 == 0:\n",
    "            print(\"%d/%d documents scanned\" % (docid1, len(messages)))\n",
    "\n",
    "        # Iterate through documents with docid larger than doc1\n",
    "        for docid2 in range(docid1+1, len(messages)):\n",
    "\n",
    "            # If this has not already been marked as duplicate of another document\n",
    "            if docid2 not in is_possible_duplicate:\n",
    "\n",
    "                # Extract signature of doc2\n",
    "                signature2 = extract_signature(docid2)\n",
    "\n",
    "                # REPLACE THIS COMMENT WITH YOUR CODE:\n",
    "                # - Increase count_sig_full_matches and count_sig_partial_matches as needed\n",
    "                # - Include docid2 in is_possible_duplicate if needed\n",
    "\n",
    "        # REPLACE THIS COMMENT WITH YOUR CODE\n",
    "        # - If the number of partial matches plus full matches exceeds a threshold\n",
    "        #   print the document doc1 and indicate how many matches of each type it has\n",
    "```\n",
    "\n",
    "<font size=\"-1\" color=\"gray\">(Remove this cell when delivering.)</font>"
   ]
  },
  {
   "cell_type": "markdown",
   "metadata": {},
   "source": [
    "<font size=\"+1\" color=\"red\">Replace this cell with your code for comparing all signatures; print all documents that have at least X signature matches, considering both full matches and partial matches. X should be 0.5% of the  number of documents.</font>"
   ]
  },
  {
   "cell_type": "code",
   "execution_count": 23,
   "metadata": {
    "scrolled": true
   },
   "outputs": [
    {
     "name": "stdout",
     "output_type": "stream",
     "text": [
      "0/10000 documents scanned\n",
      "Document 16 has 71 full matches and 0 partial matches.\n",
      "Document 53 has 57 full matches and 0 partial matches.\n",
      "Document 73 has 17 full matches and 34 partial matches.\n",
      "Document 83 has 128 full matches and 0 partial matches.\n",
      "Document 166 has 56 full matches and 0 partial matches.\n",
      "Document 328 has 65 full matches and 0 partial matches.\n",
      "500/10000 documents scanned\n",
      "1000/10000 documents scanned\n",
      "2000/10000 documents scanned\n",
      "4000/10000 documents scanned\n",
      "4500/10000 documents scanned\n",
      "5000/10000 documents scanned\n",
      "Document 5077 has 176 full matches and 0 partial matches.\n",
      "Document 5109 has 66 full matches and 0 partial matches.\n",
      "Document 5117 has 71 full matches and 0 partial matches.\n",
      "Document 5129 has 54 full matches and 0 partial matches.\n",
      "Document 5271 has 54 full matches and 0 partial matches.\n",
      "5500/10000 documents scanned\n",
      "Document 5636 has 80 full matches and 0 partial matches.\n",
      "7500/10000 documents scanned\n"
     ]
    }
   ],
   "source": [
    "is_possible_duplicate = {}\n",
    "\n",
    "X = int(0.005 * len(messages))  # Calculate 0.5% of the total number of documents\n",
    "\n",
    "for docid1 in range(len(messages)):\n",
    "    # Do not examine again a document that is a possible duplicate\n",
    "    if docid1 not in is_possible_duplicate:\n",
    "        \n",
    "        # Counters for full and partial signature matches\n",
    "        count_sig_full_matches = 0\n",
    "        count_sig_partial_matches = 0\n",
    "\n",
    "        # Extract the signature of the doc1\n",
    "        signature1 = extract_signature(docid1)\n",
    "        if docid1 % 500 == 0:\n",
    "            print(\"%d/%d documents scanned\" % (docid1, len(messages)))\n",
    "\n",
    "        # Iterate through documents with docid larger than doc1\n",
    "        for docid2 in range(docid1 + 1, len(messages)):\n",
    "            \n",
    "            # If this has not already been marked as duplicate of another document\n",
    "            if docid2 not in is_possible_duplicate:\n",
    "                \n",
    "                # Extract signature of doc2\n",
    "                signature2 = extract_signature(docid2)\n",
    "\n",
    "                # Compute similarity between signatures\n",
    "                similarity = jaccard_similarity(signature1, signature2)\n",
    "\n",
    "\n",
    "                # Increase count_sig_full_matches and count_sig_partial_matches as needed\n",
    "                if similarity == 1.0:\n",
    "                    count_sig_full_matches += 1\n",
    "                    is_possible_duplicate[docid2] = True  # Mark as duplicate\n",
    "                elif 0.2 < similarity < 1.0:\n",
    "                    count_sig_partial_matches += 1\n",
    "                    is_possible_duplicate[docid2] = True  # Mark as duplicate\n",
    "\n",
    "        # Check if the number of matches exceeds the threshold X\n",
    "        total_matches = count_sig_full_matches + count_sig_partial_matches\n",
    "        if total_matches >= X:  # If total matches exceed the threshold\n",
    "            print(f\"Document {docid1} has {count_sig_full_matches} full matches and {count_sig_partial_matches} partial matches.\")\n",
    "\n"
   ]
  },
  {
   "cell_type": "markdown",
   "metadata": {},
   "source": [
    "<font size=\"+1\" color=\"red\">Replace this cell with a brief commentary, based on the results above, about one tweet that has a substantial number of complete matches, but few partial matches. Include the full text of the original tweet. Comment on why you believe this tweet is not being changed much when copied or re-tweeted.</font>"
   ]
  },
  {
   "cell_type": "markdown",
   "metadata": {},
   "source": [
    "I have obtained that document 5077 has 176 full matches, the most number of full matches obtained. This is the tweet:\n",
    "\n",
    "''RT @emergenciescat: Què puc fer i que no? FAQs del #coronavirus a 14 de març. si us plau, demanem difusió. https://t.co/D5HNxwYjwK''\n",
    "\n",
    "It has a lot of full matches because it is a message of the emergencies of catalunya, with very important information on what is allowed to do, so people copy it literally and resend it. Also it has a lot of copies because the tweet by itself is asking to be spread.\n"
   ]
  },
  {
   "cell_type": "markdown",
   "metadata": {},
   "source": [
    "<font size=\"+1\" color=\"red\">Replace this cell with a brief commentary, based on the results above, about one tweet that has a substantial number of partial matches, but fewer complete matches. Include the full text of the original tweet and one near duplicate (that cannot be identical to the original tweet).</font>"
   ]
  },
  {
   "cell_type": "markdown",
   "metadata": {},
   "source": [
    "The only one that has more partial matches than full matches is document 73, with 34 partial matches. This is the tweet:\n",
    "\n",
    "''RT @VilaWeb: [VÍDEO] Ortega Smith passejant per Madrid sense mascareta i amb la seva mare després del positiu de coronavirus https://t.co/M…''\n",
    "\n",
    "This has more partial matches because it is a new about a controversy topic, so it is easier to the people to change some words, or to add some information, but basicly they talk about the same.\n",
    "This is an example of a partial match (document 3590):\n",
    "\n",
    "''RT @vpartal: [VÍDEO] Ortega Smith passejant per Madrid sense màscara i amb la seva mare tot i tenir el coronavirus https://t.co/lNvPS4Qs0C''"
   ]
  },
  {
   "cell_type": "markdown",
   "metadata": {},
   "source": [
    "# DELIVER (individually)\n",
    "\n",
    "Remember to read the section on \"delivering your code\" in the [course evaluation guidelines](https://github.com/chatox/data-mining-course/blob/master/upf/upf-evaluation.md).\n",
    "\n",
    "Deliver a zip file containing:\n",
    "\n",
    "* This notebook\n",
    "\n",
    "## Extra points available\n",
    "\n",
    "For more learning and extra points, compare what happens with 3 different ngram sizes (2-grams, 3-grams, 4-grams) in terms of the efficiency (speed) and effectiveness (accuracy). You can include plots for efficiency, and examples for effectiveness.\n",
    "\n",
    "**Note:** if you go for the extra points, add ``<font size=\"+2\" color=\"blue\">Additional results: various ngram sizes</font>`` at the top of your notebook.\n",
    "\n",
    "<font size=\"-1\" color=\"gray\">(Remove this cell when delivering.)</font>"
   ]
  },
  {
   "cell_type": "markdown",
   "metadata": {},
   "source": [
    "<font size=\"+2\" color=\"#003300\">I hereby declare that, except for the code provided by the course instructors, all of my code, report, and figures were produced by myself.</font>"
   ]
  }
 ],
 "metadata": {
  "kernelspec": {
   "display_name": "Python 3",
   "language": "python",
   "name": "python3"
  },
  "language_info": {
   "codemirror_mode": {
    "name": "ipython",
    "version": 3
   },
   "file_extension": ".py",
   "mimetype": "text/x-python",
   "name": "python",
   "nbconvert_exporter": "python",
   "pygments_lexer": "ipython3",
   "version": "3.8.8"
  }
 },
 "nbformat": 4,
 "nbformat_minor": 2
}
