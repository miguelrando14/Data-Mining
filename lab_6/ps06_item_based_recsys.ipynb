{
 "cells": [
  {
   "cell_type": "markdown",
   "metadata": {},
   "source": [
    "# Practice PS06: Recommendations engines (interactions-based)"
   ]
  },
  {
   "cell_type": "markdown",
   "metadata": {},
   "source": [
    "For this assignment we will build and apply an item-based and model-based collaborative filtering recommenders for movies. "
   ]
  },
  {
   "cell_type": "markdown",
   "metadata": {},
   "source": [
    "Author: <font color=\"blue\">Miguel Rando</font>\n",
    "\n",
    "E-mail: <font color=\"blue\">miguel.rando01@estudiant.upf.edu</font>\n",
    "\n",
    "Date: <font color=\"blue\">8/11/24</font>"
   ]
  },
  {
   "cell_type": "markdown",
   "metadata": {},
   "source": [
    "# 1. The Movies dataset"
   ]
  },
  {
   "cell_type": "markdown",
   "metadata": {},
   "source": [
    "# 1.1. Load the input files"
   ]
  },
  {
   "cell_type": "code",
   "execution_count": 3,
   "metadata": {},
   "outputs": [],
   "source": [
    "# Leave this code as-is\n",
    "\n",
    "import numpy as np\n",
    "import pandas as pd \n",
    "import matplotlib.pyplot as plt\n",
    "from math import*\n",
    "from scipy.sparse.linalg import svds\n",
    "from sklearn.metrics.pairwise import linear_kernel"
   ]
  },
  {
   "cell_type": "code",
   "execution_count": 4,
   "metadata": {},
   "outputs": [],
   "source": [
    "# Leave this code as-is\n",
    "\n",
    "FILENAME_MOVIES = \"movies-2000s.csv\"\n",
    "FILENAME_RATINGS = \"ratings-2000s.csv\"\n",
    "FILENAME_TAGS = \"tags-2000s.csv\""
   ]
  },
  {
   "cell_type": "code",
   "execution_count": 5,
   "metadata": {},
   "outputs": [
    {
     "data": {
      "text/html": [
       "<div>\n",
       "<style scoped>\n",
       "    .dataframe tbody tr th:only-of-type {\n",
       "        vertical-align: middle;\n",
       "    }\n",
       "\n",
       "    .dataframe tbody tr th {\n",
       "        vertical-align: top;\n",
       "    }\n",
       "\n",
       "    .dataframe thead th {\n",
       "        text-align: right;\n",
       "    }\n",
       "</style>\n",
       "<table border=\"1\" class=\"dataframe\">\n",
       "  <thead>\n",
       "    <tr style=\"text-align: right;\">\n",
       "      <th></th>\n",
       "      <th>movie_id</th>\n",
       "      <th>title</th>\n",
       "      <th>genres</th>\n",
       "    </tr>\n",
       "  </thead>\n",
       "  <tbody>\n",
       "    <tr>\n",
       "      <th>0</th>\n",
       "      <td>2769</td>\n",
       "      <td>Yards, The (2000)</td>\n",
       "      <td>Crime|Drama</td>\n",
       "    </tr>\n",
       "    <tr>\n",
       "      <th>1</th>\n",
       "      <td>3177</td>\n",
       "      <td>Next Friday (2000)</td>\n",
       "      <td>Comedy</td>\n",
       "    </tr>\n",
       "    <tr>\n",
       "      <th>2</th>\n",
       "      <td>3190</td>\n",
       "      <td>Supernova (2000)</td>\n",
       "      <td>Adventure|Sci-Fi|Thriller</td>\n",
       "    </tr>\n",
       "    <tr>\n",
       "      <th>3</th>\n",
       "      <td>3225</td>\n",
       "      <td>Down to You (2000)</td>\n",
       "      <td>Comedy|Romance</td>\n",
       "    </tr>\n",
       "    <tr>\n",
       "      <th>4</th>\n",
       "      <td>3228</td>\n",
       "      <td>Wirey Spindell (2000)</td>\n",
       "      <td>Comedy</td>\n",
       "    </tr>\n",
       "  </tbody>\n",
       "</table>\n",
       "</div>"
      ],
      "text/plain": [
       "   movie_id                  title                     genres\n",
       "0      2769      Yards, The (2000)                Crime|Drama\n",
       "1      3177     Next Friday (2000)                     Comedy\n",
       "2      3190       Supernova (2000)  Adventure|Sci-Fi|Thriller\n",
       "3      3225     Down to You (2000)             Comedy|Romance\n",
       "4      3228  Wirey Spindell (2000)                     Comedy"
      ]
     },
     "metadata": {},
     "output_type": "display_data"
    },
    {
     "data": {
      "text/html": [
       "<div>\n",
       "<style scoped>\n",
       "    .dataframe tbody tr th:only-of-type {\n",
       "        vertical-align: middle;\n",
       "    }\n",
       "\n",
       "    .dataframe tbody tr th {\n",
       "        vertical-align: top;\n",
       "    }\n",
       "\n",
       "    .dataframe thead th {\n",
       "        text-align: right;\n",
       "    }\n",
       "</style>\n",
       "<table border=\"1\" class=\"dataframe\">\n",
       "  <thead>\n",
       "    <tr style=\"text-align: right;\">\n",
       "      <th></th>\n",
       "      <th>user_id</th>\n",
       "      <th>movie_id</th>\n",
       "      <th>rating</th>\n",
       "    </tr>\n",
       "  </thead>\n",
       "  <tbody>\n",
       "    <tr>\n",
       "      <th>0</th>\n",
       "      <td>4</td>\n",
       "      <td>1</td>\n",
       "      <td>3.0</td>\n",
       "    </tr>\n",
       "    <tr>\n",
       "      <th>1</th>\n",
       "      <td>4</td>\n",
       "      <td>260</td>\n",
       "      <td>3.5</td>\n",
       "    </tr>\n",
       "    <tr>\n",
       "      <th>2</th>\n",
       "      <td>4</td>\n",
       "      <td>296</td>\n",
       "      <td>4.0</td>\n",
       "    </tr>\n",
       "    <tr>\n",
       "      <th>3</th>\n",
       "      <td>4</td>\n",
       "      <td>541</td>\n",
       "      <td>4.5</td>\n",
       "    </tr>\n",
       "    <tr>\n",
       "      <th>4</th>\n",
       "      <td>4</td>\n",
       "      <td>589</td>\n",
       "      <td>4.0</td>\n",
       "    </tr>\n",
       "  </tbody>\n",
       "</table>\n",
       "</div>"
      ],
      "text/plain": [
       "   user_id  movie_id  rating\n",
       "0        4         1     3.0\n",
       "1        4       260     3.5\n",
       "2        4       296     4.0\n",
       "3        4       541     4.5\n",
       "4        4       589     4.0"
      ]
     },
     "metadata": {},
     "output_type": "display_data"
    }
   ],
   "source": [
    "# Leave this code as-is\n",
    "\n",
    "movies = pd.read_csv(FILENAME_MOVIES, \n",
    "                    sep=',', \n",
    "                    engine='python', \n",
    "                    encoding='latin-1',\n",
    "                    names=['movie_id', 'title', 'genres'])\n",
    "display(movies.head(5))\n",
    "\n",
    "ratings_raw = pd.read_csv(FILENAME_RATINGS, \n",
    "                    sep=',', \n",
    "                    encoding='latin-1',\n",
    "                    engine='python',\n",
    "                    names=['user_id', 'movie_id', 'rating'])\n",
    "display(ratings_raw.head(5))"
   ]
  },
  {
   "cell_type": "markdown",
   "metadata": {},
   "source": [
    "# 1.2. Merge the data into a single dataframe"
   ]
  },
  {
   "cell_type": "markdown",
   "metadata": {},
   "source": [
    "<font size=\"+1\" color=\"red\">Replace this cell with your code from the previous practice that joined these three dataframes using \"merge\" into a single dataframe named \"ratings\". Print the first 5 rows of the resulting dataframe, which should contain columns \"user_id\", \"movie_id\", \"rating\", \"title\", and \"genres\".</font>"
   ]
  },
  {
   "cell_type": "code",
   "execution_count": 6,
   "metadata": {},
   "outputs": [
    {
     "data": {
      "text/html": [
       "<div>\n",
       "<style scoped>\n",
       "    .dataframe tbody tr th:only-of-type {\n",
       "        vertical-align: middle;\n",
       "    }\n",
       "\n",
       "    .dataframe tbody tr th {\n",
       "        vertical-align: top;\n",
       "    }\n",
       "\n",
       "    .dataframe thead th {\n",
       "        text-align: right;\n",
       "    }\n",
       "</style>\n",
       "<table border=\"1\" class=\"dataframe\">\n",
       "  <thead>\n",
       "    <tr style=\"text-align: right;\">\n",
       "      <th></th>\n",
       "      <th>user_id</th>\n",
       "      <th>movie_id</th>\n",
       "      <th>rating</th>\n",
       "      <th>title</th>\n",
       "      <th>genres</th>\n",
       "    </tr>\n",
       "  </thead>\n",
       "  <tbody>\n",
       "    <tr>\n",
       "      <th>0</th>\n",
       "      <td>4</td>\n",
       "      <td>3624</td>\n",
       "      <td>2.5</td>\n",
       "      <td>Shanghai Noon (2000)</td>\n",
       "      <td>Action|Adventure|Comedy|Western</td>\n",
       "    </tr>\n",
       "    <tr>\n",
       "      <th>1</th>\n",
       "      <td>152</td>\n",
       "      <td>3624</td>\n",
       "      <td>3.0</td>\n",
       "      <td>Shanghai Noon (2000)</td>\n",
       "      <td>Action|Adventure|Comedy|Western</td>\n",
       "    </tr>\n",
       "    <tr>\n",
       "      <th>2</th>\n",
       "      <td>171</td>\n",
       "      <td>3624</td>\n",
       "      <td>3.5</td>\n",
       "      <td>Shanghai Noon (2000)</td>\n",
       "      <td>Action|Adventure|Comedy|Western</td>\n",
       "    </tr>\n",
       "    <tr>\n",
       "      <th>3</th>\n",
       "      <td>276</td>\n",
       "      <td>3624</td>\n",
       "      <td>4.0</td>\n",
       "      <td>Shanghai Noon (2000)</td>\n",
       "      <td>Action|Adventure|Comedy|Western</td>\n",
       "    </tr>\n",
       "    <tr>\n",
       "      <th>4</th>\n",
       "      <td>494</td>\n",
       "      <td>3624</td>\n",
       "      <td>3.5</td>\n",
       "      <td>Shanghai Noon (2000)</td>\n",
       "      <td>Action|Adventure|Comedy|Western</td>\n",
       "    </tr>\n",
       "  </tbody>\n",
       "</table>\n",
       "</div>"
      ],
      "text/plain": [
       "   user_id  movie_id  rating                 title  \\\n",
       "0        4      3624     2.5  Shanghai Noon (2000)   \n",
       "1      152      3624     3.0  Shanghai Noon (2000)   \n",
       "2      171      3624     3.5  Shanghai Noon (2000)   \n",
       "3      276      3624     4.0  Shanghai Noon (2000)   \n",
       "4      494      3624     3.5  Shanghai Noon (2000)   \n",
       "\n",
       "                            genres  \n",
       "0  Action|Adventure|Comedy|Western  \n",
       "1  Action|Adventure|Comedy|Western  \n",
       "2  Action|Adventure|Comedy|Western  \n",
       "3  Action|Adventure|Comedy|Western  \n",
       "4  Action|Adventure|Comedy|Western  "
      ]
     },
     "metadata": {},
     "output_type": "display_data"
    }
   ],
   "source": [
    "ratings_selected = ratings_raw[['user_id', 'movie_id', 'rating']]\n",
    "movies_selected = movies[['movie_id', 'title', 'genres']]\n",
    "\n",
    "# Unir los dos dataframes usando solo las columnas seleccionadas\n",
    "ratings = pd.merge(ratings_selected, movies_selected, on='movie_id')\n",
    "\n",
    "\n",
    "display(ratings.head(5))"
   ]
  },
  {
   "cell_type": "markdown",
   "metadata": {},
   "source": [
    "<font size=\"+1\" color=\"red\">Replace this cell with your code from the previous practice for \"find_movies\" that list movies containing a keyword</font>"
   ]
  },
  {
   "cell_type": "code",
   "execution_count": 7,
   "metadata": {},
   "outputs": [],
   "source": [
    "def find_movies(keyword, movies_df):\n",
    "    # convert keyword to lowercase \n",
    "    keyword_lower = keyword.lower()\n",
    "    \n",
    "    # filter movies \n",
    "    matching_movies = movies_df[movies_df['title'].str.lower().str.contains(keyword_lower, na=False)]\n",
    "    \n",
    "    # print each matching movie ID and title\n",
    "    print(matching_movies[['movie_id', 'title']].to_string(index=False, header=False))\n"
   ]
  },
  {
   "cell_type": "code",
   "execution_count": 8,
   "metadata": {},
   "outputs": [
    {
     "name": "stdout",
     "output_type": "stream",
     "text": [
      "  5349                                Spider-Man (2002)\n",
      "  8636                              Spider-Man 2 (2004)\n",
      " 52722                              Spider-Man 3 (2007)\n",
      " 76709 Spider-Man: The Ultimate Villain Showdown (2002)\n",
      " 95510                   Amazing Spider-Man, The (2012)\n",
      "110553                  The Amazing Spider-Man 2 (2014)\n",
      "122926                Untitled Spider-Man Reboot (2017)\n",
      "195159         Spider-Man: Into the Spider-Verse (2018)\n",
      "201773                 Spider-Man: Far from Home (2019)\n"
     ]
    }
   ],
   "source": [
    "# LEAVE AS-IS\n",
    "\n",
    "# For testing, this should print 9 movies\n",
    "find_movies(\"Spider-Man\", movies)"
   ]
  },
  {
   "cell_type": "code",
   "execution_count": 9,
   "metadata": {},
   "outputs": [],
   "source": [
    "# LEAVE AS-IS\n",
    "\n",
    "def get_title(movie_id, movies):\n",
    "    return movies[movies['movie_id'] == movie_id].title.iloc[0]"
   ]
  },
  {
   "cell_type": "code",
   "execution_count": 10,
   "metadata": {},
   "outputs": [
    {
     "name": "stdout",
     "output_type": "stream",
     "text": [
      "Spider-Man 2 (2004)\n"
     ]
    }
   ],
   "source": [
    "# LEAVE AS-IS\n",
    "\n",
    "# For testing, should print \"Spider-Man 2 (2004)\"\n",
    "print(get_title(8636, movies))"
   ]
  },
  {
   "cell_type": "markdown",
   "metadata": {},
   "source": [
    "## 1.3. Count unique registers"
   ]
  },
  {
   "cell_type": "markdown",
   "metadata": {},
   "source": [
    "<font size=\"+1\" color=\"red\">Replace this cell with your own code to indicate the number of unique users and unique movies in the \"ratings\" variable.</font>"
   ]
  },
  {
   "cell_type": "code",
   "execution_count": 11,
   "metadata": {},
   "outputs": [
    {
     "name": "stdout",
     "output_type": "stream",
     "text": [
      "Number of users who have rated a movie : 12676\n",
      "Number of movies that have been rated  : 2049\n",
      "Total number of movies                 : 33168\n"
     ]
    }
   ],
   "source": [
    "num_unique_users = len(ratings['user_id'].unique())\n",
    "\n",
    "num_rated_movies = len(ratings['movie_id'].unique())\n",
    "\n",
    "total_movies = len(movies['movie_id'].unique())\n",
    "\n",
    "print(f\"Number of users who have rated a movie : {num_unique_users}\")\n",
    "print(f\"Number of movies that have been rated  : {num_rated_movies}\")\n",
    "print(f\"Total number of movies                 : {total_movies}\")"
   ]
  },
  {
   "cell_type": "markdown",
   "metadata": {},
   "source": [
    "# 2. Item-based Collaborative Filtering"
   ]
  },
  {
   "cell_type": "markdown",
   "metadata": {},
   "source": [
    "## 2.1. Data pre-processing"
   ]
  },
  {
   "cell_type": "markdown",
   "metadata": {},
   "source": [
    "<font size=\"+1\" color=\"red\">Replace this cell with your code to generate \"rated_movies\" and print the first ten rows. This should have columns user_id, movie_id, rating, title</font>"
   ]
  },
  {
   "cell_type": "code",
   "execution_count": 12,
   "metadata": {},
   "outputs": [
    {
     "name": "stdout",
     "output_type": "stream",
     "text": [
      "   user_id  movie_id  rating                 title\n",
      "0        4      3624     2.5  Shanghai Noon (2000)\n",
      "1      152      3624     3.0  Shanghai Noon (2000)\n",
      "2      171      3624     3.5  Shanghai Noon (2000)\n",
      "3      276      3624     4.0  Shanghai Noon (2000)\n",
      "4      494      3624     3.5  Shanghai Noon (2000)\n"
     ]
    }
   ],
   "source": [
    "rated_movies = ratings.drop(columns = 'genres')\n",
    "\n",
    "print(rated_movies.head(5))"
   ]
  },
  {
   "cell_type": "markdown",
   "metadata": {},
   "source": [
    "<font size=\"+1\" color=\"red\">Replace this cell with your code to generate \"ratings_summary\" and print the first 10 rows.</font>"
   ]
  },
  {
   "cell_type": "code",
   "execution_count": 13,
   "metadata": {},
   "outputs": [],
   "source": [
    "# we only keep one row per film\n",
    "ratings_summary = rated_movies.groupby('title').first()\n",
    "\n",
    "# we compute the series for each film\n",
    "ratings_mean = rated_movies.groupby('title')['rating'].mean()\n",
    "ratings_count = rated_movies.groupby('title')['rating'].count()\n",
    "\n",
    "# here we add the series as columns to the dataframe\n",
    "ratings_summary['ratings_mean'] = ratings_mean\n",
    "ratings_summary['ratings_count'] = ratings_count\n",
    "\n",
    "\n",
    "# we drop the rating column as we dont need it any more\n",
    "ratings_summary = ratings_summary.drop(columns = ['rating', 'user_id'])\n"
   ]
  },
  {
   "cell_type": "markdown",
   "metadata": {},
   "source": [
    "<font size=\"+1\" color=\"red\">Replace this cell with code to print the top 5 highest rated movies, considering only movies receiving at least 100 ratings.</font>"
   ]
  },
  {
   "cell_type": "code",
   "execution_count": 14,
   "metadata": {},
   "outputs": [
    {
     "name": "stdout",
     "output_type": "stream",
     "text": [
      "                                                    movie_id  ratings_mean  \\\n",
      "title                                                                        \n",
      "Spirited Away (Sen to Chihiro no kamikakushi) (...      5618      4.215216   \n",
      "City of God (Cidade de Deus) (2002)                     6016      4.186592   \n",
      "Memento (2000)                                          4226      4.158512   \n",
      "Fog of War: Eleven Lessons from the Life of Rob...      7156      4.112013   \n",
      "Amelie (Fabuleux destin d'AmÃ©lie Poulain, Le) ...      4973      4.097234   \n",
      "\n",
      "                                                    ratings_count  \n",
      "title                                                              \n",
      "Spirited Away (Sen to Chihiro no kamikakushi) (...           2458  \n",
      "City of God (Cidade de Deus) (2002)                          2133  \n",
      "Memento (2000)                                               4476  \n",
      "Fog of War: Eleven Lessons from the Life of Rob...            308  \n",
      "Amelie (Fabuleux destin d'AmÃ©lie Poulain, Le) ...           3687  \n"
     ]
    }
   ],
   "source": [
    "#  at least 100 ratings\n",
    "ratings_100 = ratings_summary[ratings_summary.ratings_count >= 100]\n",
    "\n",
    "# sort by decreasing value of ratings\n",
    "ratings_sorted = ratings_100.sort_values(by='ratings_mean', ascending=False)\n",
    "\n",
    "print(ratings_sorted.head(5))"
   ]
  },
  {
   "cell_type": "markdown",
   "metadata": {},
   "source": [
    "<font size=\"+1\" color=\"red\">Repeat this, but this time consider movies receiving at least 3 ratings.</font>"
   ]
  },
  {
   "cell_type": "code",
   "execution_count": 15,
   "metadata": {},
   "outputs": [
    {
     "name": "stdout",
     "output_type": "stream",
     "text": [
      "                                                 movie_id  ratings_mean  \\\n",
      "title                                                                     \n",
      "Rumor of Angels, A (2000)                            5082      4.666667   \n",
      "2LDK (2003)                                         27764      4.500000   \n",
      "Beautiful City (Shah-re ziba) (2004)                31954      4.400000   \n",
      "Promises (2001)                                      5224      4.388889   \n",
      "Surplus: Terrorized Into Being Consumers (2003)     31856      4.333333   \n",
      "\n",
      "                                                 ratings_count  \n",
      "title                                                           \n",
      "Rumor of Angels, A (2000)                                    6  \n",
      "2LDK (2003)                                                  3  \n",
      "Beautiful City (Shah-re ziba) (2004)                         5  \n",
      "Promises (2001)                                             18  \n",
      "Surplus: Terrorized Into Being Consumers (2003)              3  \n"
     ]
    }
   ],
   "source": [
    "#  at least 3 ratings\n",
    "ratings_3 = ratings_summary[ratings_summary.ratings_count >= 3]\n",
    "\n",
    "# sort by decreasing value of ratings\n",
    "ratings_sorted = ratings_3.sort_values(by='ratings_mean', ascending=False)\n",
    "\n",
    "print(ratings_sorted.head(5))"
   ]
  },
  {
   "cell_type": "markdown",
   "metadata": {},
   "source": [
    "<font size=\"+1\" color=\"red\">Replace this cell with a brief commentary, in your own words, on what happens when the number of ratings is set to a small value.</font>"
   ]
  },
  {
   "cell_type": "markdown",
   "metadata": {},
   "source": [
    "With small number of ratings, the rating mean is higher, as it is easier to have a greater mean because if someone rate the film with a very high value (5 for example), the impact of this rating in the mean is going to have a grater impact. Thats why the 5 films with better rating mean have few rating count."
   ]
  },
  {
   "cell_type": "markdown",
   "metadata": {},
   "source": [
    "## 2.2. Compute the user-movie matrix"
   ]
  },
  {
   "cell_type": "markdown",
   "metadata": {},
   "source": [
    "<font size=\"+1\" color=\"red\">Replace this cell with code to generate a \"user_movie\" matrix by calling \"pivot_table\" on \"rated_movies\". Print the first 5 rows. It might take about one minute to compute, depending on your computer.</font>"
   ]
  },
  {
   "cell_type": "code",
   "execution_count": 16,
   "metadata": {},
   "outputs": [
    {
     "name": "stdout",
     "output_type": "stream",
     "text": [
      "movie_id  2769   3177   3190   3225   3228   3239   3273   3275   3276   \\\n",
      "user_id                                                                   \n",
      "4           NaN    NaN    NaN    NaN    NaN    NaN    NaN    NaN    NaN   \n",
      "33          NaN    NaN    NaN    NaN    NaN    NaN    NaN    NaN    NaN   \n",
      "62          NaN    NaN    NaN    NaN    NaN    NaN    NaN    4.5    NaN   \n",
      "63          NaN    NaN    NaN    NaN    NaN    NaN    NaN    NaN    NaN   \n",
      "95          NaN    NaN    NaN    NaN    NaN    NaN    NaN    3.5    NaN   \n",
      "...         ...    ...    ...    ...    ...    ...    ...    ...    ...   \n",
      "162488      NaN    NaN    NaN    NaN    NaN    NaN    NaN    4.5    NaN   \n",
      "162513      NaN    NaN    NaN    NaN    NaN    NaN    NaN    NaN    NaN   \n",
      "162527      NaN    NaN    NaN    NaN    NaN    NaN    NaN    NaN    NaN   \n",
      "162533      NaN    NaN    NaN    NaN    NaN    NaN    NaN    NaN    NaN   \n",
      "162536      NaN    NaN    NaN    NaN    NaN    NaN    NaN    NaN    NaN   \n",
      "\n",
      "movie_id  3279   ...  33138  33145  33148  33150  33152  33154  33158  33162  \\\n",
      "user_id          ...                                                           \n",
      "4           NaN  ...    NaN    NaN    NaN    NaN    NaN    NaN    NaN    NaN   \n",
      "33          NaN  ...    NaN    NaN    NaN    NaN    NaN    NaN    NaN    NaN   \n",
      "62          NaN  ...    NaN    NaN    NaN    NaN    NaN    NaN    NaN    NaN   \n",
      "63          NaN  ...    NaN    NaN    NaN    NaN    NaN    NaN    NaN    NaN   \n",
      "95          NaN  ...    NaN    NaN    NaN    NaN    NaN    NaN    NaN    NaN   \n",
      "...         ...  ...    ...    ...    ...    ...    ...    ...    ...    ...   \n",
      "162488      NaN  ...    NaN    NaN    NaN    NaN    NaN    NaN    NaN    NaN   \n",
      "162513      NaN  ...    NaN    NaN    NaN    NaN    NaN    NaN    NaN    NaN   \n",
      "162527      NaN  ...    NaN    NaN    NaN    NaN    NaN    NaN    NaN    NaN   \n",
      "162533      NaN  ...    NaN    NaN    NaN    NaN    NaN    NaN    NaN    NaN   \n",
      "162536      NaN  ...    NaN    NaN    NaN    NaN    NaN    NaN    NaN    NaN   \n",
      "\n",
      "movie_id  33164  33166  \n",
      "user_id                 \n",
      "4           NaN    NaN  \n",
      "33          NaN    NaN  \n",
      "62          NaN    3.5  \n",
      "63          NaN    NaN  \n",
      "95          NaN    NaN  \n",
      "...         ...    ...  \n",
      "162488      NaN    NaN  \n",
      "162513      NaN    NaN  \n",
      "162527      NaN    NaN  \n",
      "162533      NaN    4.0  \n",
      "162536      NaN    3.5  \n",
      "\n",
      "[12676 rows x 2049 columns]\n"
     ]
    }
   ],
   "source": [
    "user_movie = rated_movies.pivot_table( index = 'user_id', columns = 'movie_id', values = 'rating')\n",
    "\n",
    "print(user_movie)"
   ]
  },
  {
   "cell_type": "markdown",
   "metadata": {},
   "source": [
    "<font size=\"+1\" color=\"red\">Replace this a brief commentary indicating why do you think the \"user_movie\" matrix has so many \"NaN\" values. How do we call this characteristic of user ratings in recommender systems?</font>"
   ]
  },
  {
   "cell_type": "markdown",
   "metadata": {},
   "source": [
    "Because users only rate some films, and there are a lot of films that are not rated by the big part of the users.\n",
    "We call it sparsity."
   ]
  },
  {
   "cell_type": "markdown",
   "metadata": {},
   "source": [
    "# 2.3. Explore some correlations in the user-movie matrix"
   ]
  },
  {
   "cell_type": "markdown",
   "metadata": {},
   "source": [
    "<font size=\"+1\" color=\"red\">Replace this cell with code to compute and display the first 10 rows of the \"ratings3\" table as described above.</font>"
   ]
  },
  {
   "cell_type": "code",
   "execution_count": 17,
   "metadata": {},
   "outputs": [
    {
     "name": "stdout",
     "output_type": "stream",
     "text": [
      "4993 Lord of the Rings: The Fellowship of the Ring, The (2001)\n",
      "5952             Lord of the Rings: The Two Towers, The (2002)\n",
      "7153     Lord of the Rings: The Return of the King, The (2003)\n",
      "6377 Finding Nemo (2003)\n",
      "5878 Talk to Her (Hable con Ella) (2002)\n"
     ]
    }
   ],
   "source": [
    "find_movies(\"Lord of the Rings\", movies)\n",
    "find_movies(\"Finding Nemo\", movies)\n",
    "find_movies(\"Talk to Her\", movies)"
   ]
  },
  {
   "cell_type": "code",
   "execution_count": 18,
   "metadata": {
    "scrolled": true
   },
   "outputs": [
    {
     "name": "stdout",
     "output_type": "stream",
     "text": [
      "         4993  6377  5878\n",
      "user_id                  \n",
      "859       3.0   4.0   5.0\n",
      "1229      4.0   4.0   4.5\n",
      "1281      3.0   2.5   3.0\n",
      "1722      5.0   4.5   4.0\n",
      "2004      4.5   3.0   3.5\n",
      "4590      4.0   4.0   2.0\n",
      "5052      2.0   4.0   4.0\n",
      "5144      5.0   5.0   5.0\n",
      "6497      3.5   3.5   3.5\n",
      "8369      3.0   4.0   4.5\n"
     ]
    }
   ],
   "source": [
    "id_pivot = 4993\n",
    "id_m1 = 6377\n",
    "id_m2 = 5878\n",
    "\n",
    "\n",
    "s1 = user_movie[id_pivot].dropna()\n",
    "s2 = user_movie[id_m1].dropna()\n",
    "s3 = user_movie[id_m2].dropna()\n",
    "\n",
    "ratings3 = pd.concat([s1, s2, s3], axis=1)\n",
    "\n",
    "ratings3 = ratings3.dropna()\n",
    "\n",
    "print(ratings3.head(10))"
   ]
  },
  {
   "cell_type": "markdown",
   "metadata": {},
   "source": [
    "<font size=\"+1\" color=\"red\">Replace this cell with code to compute all correlations between these three movies, as described above.</font>"
   ]
  },
  {
   "cell_type": "code",
   "execution_count": 19,
   "metadata": {},
   "outputs": [
    {
     "name": "stdout",
     "output_type": "stream",
     "text": [
      "Similarity between 'Lord of the Rings: The Fellowship of the Ring, The (2001)' and 'Finding Nemo (2003)': 0.38\n",
      "Similarity between 'Lord of the Rings: The Fellowship of the Ring, The (2001)' and 'Talk to Her (Hable con Ella) (2002)': 0.16\n",
      "Similarity between 'Finding Nemo (2003)' and 'Talk to Her (Hable con Ella) (2002)': 0.20\n"
     ]
    }
   ],
   "source": [
    "similarity_1 = ratings3[id_pivot].corr(ratings3[id_m1])  # Lord of the Rings and Finding Nemo\n",
    "similarity_2 = ratings3[id_pivot].corr(ratings3[id_m2])  # Lord of the Rings and Talk to Her\n",
    "similarity_3 = ratings3[id_m1].corr(ratings3[id_m2])  # Finding Nemo and Talk to Her\n",
    "\n",
    "\n",
    "# print the similarities\n",
    "print(f\"Similarity between 'Lord of the Rings: The Fellowship of the Ring, The (2001)' and 'Finding Nemo (2003)': {similarity_1:.2f}\")\n",
    "print(f\"Similarity between 'Lord of the Rings: The Fellowship of the Ring, The (2001)' and 'Talk to Her (Hable con Ella) (2002)': {similarity_2:.2f}\")\n",
    "print(f\"Similarity between 'Finding Nemo (2003)' and 'Talk to Her (Hable con Ella) (2002)': {similarity_3:.2f}\")"
   ]
  },
  {
   "cell_type": "markdown",
   "metadata": {},
   "source": [
    "<font size=\"+1\" color=\"red\">Replace this cell with a brief commentary on the correlations you find.</font>"
   ]
  },
  {
   "cell_type": "markdown",
   "metadata": {},
   "source": [
    "The higher correlation is between Lord of the Ring and Nemo. It is normal because they have the same gender (fiction) so people who likes one of it, tends to like the other."
   ]
  },
  {
   "cell_type": "markdown",
   "metadata": {},
   "source": [
    "<font size=\"+1\" color=\"red\">Replace this cell with code to create a \"similarity_to_pivot\" series that contains the computed correlations, droping the NaNs in the series.</font>"
   ]
  },
  {
   "cell_type": "code",
   "execution_count": 20,
   "metadata": {
    "scrolled": true
   },
   "outputs": [
    {
     "name": "stdout",
     "output_type": "stream",
     "text": [
      "   movie_id  corr_with_pivot\n",
      "0      2769        -0.127515\n",
      "1      3177         0.093221\n",
      "2      3190         0.041206\n",
      "3      3225         0.126600\n",
      "4      3228              NaN\n"
     ]
    }
   ],
   "source": [
    "df_pivot = pd.DataFrame(user_movie[id_pivot].dropna()).rename(columns={id_pivot: \"rating\"})\n",
    "\n",
    "# create an empty list to store the correlation results\n",
    "correlations = []\n",
    "\n",
    "for movie_id in user_movie.columns:\n",
    "    if movie_id != id_pivot:  # skip the pivot movie itself\n",
    "        # extract the ratings \n",
    "        df_other_movie = pd.DataFrame(user_movie[movie_id].dropna()).rename(columns={movie_id: \"rating\"})\n",
    "        \n",
    "        # Compute the correlation between the pivot movie and the current movie\n",
    "        corr = df_pivot.corrwith(df_other_movie)[0]  # corrwith returns a series, so extract the scalar value\n",
    "        \n",
    "        # Store the result in the list \n",
    "        correlations.append((movie_id, corr))\n",
    "\n",
    "        \n",
    "similarity_to_pivot = pd.DataFrame(correlations, columns=[\"movie_id\", \"corr_with_pivot\"])\n",
    "\n",
    "print(similarity_to_pivot.head())\n"
   ]
  },
  {
   "cell_type": "markdown",
   "metadata": {},
   "source": [
    "<font size=\"+1\" color=\"red\">Replace this cell with code to create a \"corr_with_pivot\" dataframe as specified above, and to print the 20 movies (rated 500 times or more) with the highest correlation with the selected movie.</font>"
   ]
  },
  {
   "cell_type": "code",
   "execution_count": 21,
   "metadata": {},
   "outputs": [
    {
     "name": "stdout",
     "output_type": "stream",
     "text": [
      "                                                  title  movie_id  \\\n",
      "1113      Lord of the Rings: The Two Towers, The (2002)      5952   \n",
      "1112  Lord of the Rings: The Return of the King, The...      7153   \n",
      "1418  Pirates of the Caribbean: The Curse of the Bla...      6539   \n",
      "801     Harry Potter and the Prisoner of Azkaban (2004)      8368   \n",
      "740                                    Gladiator (2000)      3578   \n",
      "2030                                       X-Men (2000)      3793   \n",
      "802   Harry Potter and the Sorcerer's Stone (a.k.a. ...      4896   \n",
      "1619                               Shanghai Noon (2000)      3624   \n",
      "880   Howl's Moving Castle (Hauru no ugoku shiro) (2...     31658   \n",
      "1689                                  Spider-Man (2002)      5349   \n",
      "800      Harry Potter and the Chamber of Secrets (2002)      5816   \n",
      "1630                                       Shrek (2001)      4306   \n",
      "1185                        Matrix Reloaded, The (2003)      6365   \n",
      "1690                                Spider-Man 2 (2004)      8636   \n",
      "2031                            X2: X-Men United (2003)      6333   \n",
      "829                            Hero (Ying xiong) (2002)      7090   \n",
      "450   Crouching Tiger, Hidden Dragon (Wo hu cang lon...      3996   \n",
      "1062                           Last Samurai, The (2003)      7143   \n",
      "662                                 Finding Nemo (2003)      6377   \n",
      "1708  Star Wars: Episode II - Attack of the Clones (...      5378   \n",
      "\n",
      "      ratings_mean  ratings_count  corr_with_pivot  \n",
      "1113      4.083869           5449         0.892103  \n",
      "1112      4.083960           5449         0.892073  \n",
      "1418      3.779241           3950         0.377599  \n",
      "801       3.809971           2397         0.340934  \n",
      "740       3.951050           4811         0.337667  \n",
      "2030      3.556436           3535         0.329686  \n",
      "802       3.678509           2843         0.319180  \n",
      "1619      3.297443           1017         0.307471  \n",
      "880       4.064417           1141         0.303898  \n",
      "1689      3.457931           3209         0.302174  \n",
      "800       3.657751           2374         0.297661  \n",
      "1630      3.768787           4591         0.296144  \n",
      "1185      3.352115           2529         0.289269  \n",
      "1690      3.468254           2268         0.289119  \n",
      "2031      3.611370           2146         0.286127  \n",
      "829       3.934135            873         0.274978  \n",
      "450       3.845262           2976         0.272425  \n",
      "1062      3.666470           1691         0.270891  \n",
      "662       3.862284           3765         0.268611  \n",
      "1708      3.063167           2248         0.267679  \n"
     ]
    }
   ],
   "source": [
    "#I had to reset the index to make the column title appear\n",
    "ratings_summary_reset = ratings_summary.reset_index()\n",
    "\n",
    "\n",
    "# merge similarity_to_pivot with ratings_summary on movie_id\n",
    "corr_with_pivot = ratings_summary_reset.merge(similarity_to_pivot, on=\"movie_id\", how='left')\n",
    "\n",
    "# filter for movies with ratings_count > 500 \n",
    "corr_with_pivot = corr_with_pivot[corr_with_pivot['ratings_count'] > 500]\n",
    "\n",
    "# sort the dataframe in descending order\n",
    "corr_with_pivot = corr_with_pivot.sort_values(by=\"corr_with_pivot\", ascending=False)\n",
    "\n",
    "print(corr_with_pivot.head(20))"
   ]
  },
  {
   "cell_type": "markdown",
   "metadata": {},
   "source": [
    "<font size=\"+1\" color=\"red\">Replace this cell with a brief commentary about the movies you see on this list. What happens if you set the condition on *ratings_count* to a much larger value? What happens if you set it to a much smaller value?</font>"
   ]
  },
  {
   "cell_type": "markdown",
   "metadata": {},
   "source": [
    "Obiously the film that has the higher correlation is another Lord of the rings film. And the other films are also fiction and adventure films. If we increase the count of the rating we only get very popular films, and if we decrease it, we get less known films  "
   ]
  },
  {
   "cell_type": "markdown",
   "metadata": {},
   "source": [
    "# 2.4. Implement the item-based recommendations"
   ]
  },
  {
   "cell_type": "markdown",
   "metadata": {},
   "source": [
    "<font size=\"+1\" color=\"red\">Replace this cell with your code to compute all correlations between columns (movies) in the matrix user_movie. Store this in \"item_similarity\", and print the first 10 rows.</font>"
   ]
  },
  {
   "cell_type": "code",
   "execution_count": 25,
   "metadata": {
    "scrolled": true
   },
   "outputs": [
    {
     "name": "stdout",
     "output_type": "stream",
     "text": [
      "movie_id     2769      3177      3190      3225   3228      3239      3273   \\\n",
      "movie_id                                                                      \n",
      "2769      1.000000  0.115068  0.033721 -0.232268    NaN -0.500000  0.197011   \n",
      "3177      0.115068  1.000000  0.303820  0.559533    NaN       NaN  0.331191   \n",
      "3190      0.033721  0.303820  1.000000  0.636361    NaN -0.014315  0.146042   \n",
      "3225     -0.232268  0.559533  0.636361  1.000000    NaN  0.578414  0.347716   \n",
      "3228           NaN       NaN       NaN       NaN    1.0       NaN       NaN   \n",
      "3239     -0.500000       NaN -0.014315  0.578414    NaN  1.000000  0.180846   \n",
      "3273      0.197011  0.331191  0.146042  0.347716    NaN  0.180846  1.000000   \n",
      "3275      0.199514  0.167918  0.394293  0.263671    NaN  1.000000  0.105735   \n",
      "3276      0.250873  1.000000 -0.290397 -0.250313    NaN       NaN  0.154371   \n",
      "3279           NaN       NaN       NaN       NaN    NaN       NaN       NaN   \n",
      "\n",
      "movie_id     3275      3276   3279   ...     33138     33145  33148  33150  \\\n",
      "movie_id                             ...                                     \n",
      "2769      0.199514  0.250873    NaN  ...  0.379980  0.878310    NaN    NaN   \n",
      "3177      0.167918  1.000000    NaN  ...  0.546119  0.735767   -1.0    NaN   \n",
      "3190      0.394293 -0.290397    NaN  ...  0.246183  0.632026    NaN    NaN   \n",
      "3225      0.263671 -0.250313    NaN  ... -0.300376  0.318377    NaN    NaN   \n",
      "3228           NaN       NaN    NaN  ...       NaN       NaN    NaN    NaN   \n",
      "3239      1.000000       NaN    NaN  ...       NaN       NaN    NaN    NaN   \n",
      "3273      0.105735  0.154371    NaN  ...  0.006774  0.409968    1.0    NaN   \n",
      "3275      1.000000  0.485071    NaN  ... -0.011426  0.279624    NaN    NaN   \n",
      "3276      0.485071  1.000000    NaN  ...       NaN  0.292770    NaN    NaN   \n",
      "3279           NaN       NaN    1.0  ...       NaN       NaN    NaN    NaN   \n",
      "\n",
      "movie_id  33152     33154         33158     33162     33164     33166  \n",
      "movie_id                                                               \n",
      "2769        NaN  0.248126  1.806095e-01 -0.085570 -0.408248  0.105671  \n",
      "3177        NaN -0.221382  3.174747e-01  0.014735  0.661989  0.185654  \n",
      "3190        NaN  0.378181  1.709261e-01  0.022444 -0.073360 -0.054114  \n",
      "3225        NaN  0.480173  7.503063e-01  0.536828  0.753141  0.098748  \n",
      "3228        NaN       NaN           NaN       NaN       NaN       NaN  \n",
      "3239        NaN  1.000000           NaN  1.000000  0.636285  0.888200  \n",
      "3273        NaN  0.088405  7.516779e-02  0.143492  0.466705  0.084202  \n",
      "3275        NaN  0.075827  2.994603e-01  0.187713  0.285584  0.225317  \n",
      "3276        NaN  0.000000 -6.885311e-17 -0.455530  0.500000 -0.138013  \n",
      "3279        NaN       NaN           NaN       NaN       NaN       NaN  \n",
      "\n",
      "[10 rows x 2049 columns]\n"
     ]
    }
   ],
   "source": [
    "item_similarity = user_movie.corr()\n",
    "\n",
    "print(item_similarity.head(10))"
   ]
  },
  {
   "cell_type": "markdown",
   "metadata": {},
   "source": [
    "<font size=\"+1\" color=\"red\">Replace this cell with your code to compute all correlations between columns (movies) in the matrix user_movie, but considering only movies having at least 100 ratings in common. Store this in \"item_similarity_min_ratings\"</font>"
   ]
  },
  {
   "cell_type": "code",
   "execution_count": 27,
   "metadata": {},
   "outputs": [
    {
     "name": "stdout",
     "output_type": "stream",
     "text": [
      "movie_id  2769   3177   3190   3225   3228   3239      3273      3275   3276   \\\n",
      "movie_id                                                                        \n",
      "2769        1.0    NaN    NaN    NaN    NaN    NaN       NaN       NaN    NaN   \n",
      "3177        NaN    1.0    NaN    NaN    NaN    NaN       NaN       NaN    NaN   \n",
      "3190        NaN    NaN    1.0    NaN    NaN    NaN       NaN       NaN    NaN   \n",
      "3225        NaN    NaN    NaN    1.0    NaN    NaN       NaN       NaN    NaN   \n",
      "3228        NaN    NaN    NaN    NaN    NaN    NaN       NaN       NaN    NaN   \n",
      "3239        NaN    NaN    NaN    NaN    NaN    NaN       NaN       NaN    NaN   \n",
      "3273        NaN    NaN    NaN    NaN    NaN    NaN  1.000000  0.105735    NaN   \n",
      "3275        NaN    NaN    NaN    NaN    NaN    NaN  0.105735  1.000000    NaN   \n",
      "3276        NaN    NaN    NaN    NaN    NaN    NaN       NaN       NaN    NaN   \n",
      "3279        NaN    NaN    NaN    NaN    NaN    NaN       NaN       NaN    NaN   \n",
      "\n",
      "movie_id  3279   ...  33138  33145  33148  33150  33152  33154  33158  \\\n",
      "movie_id         ...                                                    \n",
      "2769        NaN  ...    NaN    NaN    NaN    NaN    NaN    NaN    NaN   \n",
      "3177        NaN  ...    NaN    NaN    NaN    NaN    NaN    NaN    NaN   \n",
      "3190        NaN  ...    NaN    NaN    NaN    NaN    NaN    NaN    NaN   \n",
      "3225        NaN  ...    NaN    NaN    NaN    NaN    NaN    NaN    NaN   \n",
      "3228        NaN  ...    NaN    NaN    NaN    NaN    NaN    NaN    NaN   \n",
      "3239        NaN  ...    NaN    NaN    NaN    NaN    NaN    NaN    NaN   \n",
      "3273        NaN  ...    NaN    NaN    NaN    NaN    NaN    NaN    NaN   \n",
      "3275        NaN  ...    NaN    NaN    NaN    NaN    NaN    NaN    NaN   \n",
      "3276        NaN  ...    NaN    NaN    NaN    NaN    NaN    NaN    NaN   \n",
      "3279        NaN  ...    NaN    NaN    NaN    NaN    NaN    NaN    NaN   \n",
      "\n",
      "movie_id     33162  33164     33166  \n",
      "movie_id                             \n",
      "2769           NaN    NaN       NaN  \n",
      "3177           NaN    NaN       NaN  \n",
      "3190           NaN    NaN       NaN  \n",
      "3225           NaN    NaN       NaN  \n",
      "3228           NaN    NaN       NaN  \n",
      "3239           NaN    NaN       NaN  \n",
      "3273           NaN    NaN  0.084202  \n",
      "3275      0.187713    NaN  0.225317  \n",
      "3276           NaN    NaN       NaN  \n",
      "3279           NaN    NaN       NaN  \n",
      "\n",
      "[10 rows x 2049 columns]\n"
     ]
    }
   ],
   "source": [
    "item_similarity_min_ratings = user_movie.corr(min_periods = 100)\n",
    "\n",
    "print(item_similarity.head(10))"
   ]
  },
  {
   "cell_type": "markdown",
   "metadata": {},
   "source": [
    "<font size=\"+1\" color=\"red\">Replace this cell with your code to find the userids of two example users: user_id_super (the who liked the three superhero movies), and user_id_drama (the one who liked the three dramas)</font>"
   ]
  },
  {
   "cell_type": "code",
   "execution_count": 43,
   "metadata": {
    "scrolled": true
   },
   "outputs": [
    {
     "name": "stdout",
     "output_type": "stream",
     "text": [
      "127342\n",
      "34336\n"
     ]
    }
   ],
   "source": [
    "\n",
    "#we iterate through the data frame and find the coincidences\n",
    "\n",
    "for user_id, row in user_movie.iterrows():\n",
    "    if (row[5349] > 4.5) & (row[3793] > 4.5) & (row[6534] > 4.5):\n",
    "        user_id_super = user_id\n",
    "        print(user_id)\n",
    "        break  # Stops after finding the first user\n",
    "\n",
    "        \n",
    "for user_id, row in user_movie.iterrows():\n",
    "    if (row[6870] > 4.5) & (row[5995] > 4.5) & (row[3555] > 4.5):\n",
    "        user_id_drama = user_id\n",
    "        print(user_id)\n",
    "        break  # Stops after finding the first user\n"
   ]
  },
  {
   "cell_type": "code",
   "execution_count": 44,
   "metadata": {},
   "outputs": [],
   "source": [
    "# Leave this code as-is\n",
    "\n",
    "# Gets a list of watched movies for a user_id\n",
    "def get_watched_movies(user_id, user_movie):\n",
    "    return list(user_movie.loc[user_id].dropna().sort_values(ascending=False).index)\n",
    "    \n",
    "# Gets the rating a user_id has given to a movie_id\n",
    "def get_rating(user_id, movie_id, user_movie):\n",
    "    return user_movie[movie_id][user_id]\n",
    "\n",
    "# Print watched movies\n",
    "def print_watched_movies(user_id, user_movie, movies):\n",
    "    for movie_id in get_watched_movies(user_id, user_movie):\n",
    "        print(\"%d %.1f %s \" %\n",
    "          (movie_id, get_rating(user_id, movie_id, user_movie), get_title(movie_id, movies)))\n"
   ]
  },
  {
   "cell_type": "code",
   "execution_count": 45,
   "metadata": {},
   "outputs": [
    {
     "name": "stdout",
     "output_type": "stream",
     "text": [
      "5502 5.0 Signs (2002) \n",
      "5445 5.0 Minority Report (2002) \n",
      "6156 5.0 Shanghai Knights (2003) \n",
      "5952 5.0 Lord of the Rings: The Two Towers, The (2002) \n",
      "5944 5.0 Star Trek: Nemesis (2002) \n",
      "5816 5.0 Harry Potter and the Chamber of Secrets (2002) \n",
      "5618 5.0 Spirited Away (Sen to Chihiro no kamikakushi) (2001) \n",
      "5524 5.0 Blue Crush (2002) \n",
      "5480 5.0 Stuart Little 2 (2002) \n",
      "5459 5.0 Men in Black II (a.k.a. MIIB) (a.k.a. MIB 2) (2002) \n",
      "5420 5.0 Windtalkers (2002) \n",
      "4388 5.0 Scary Movie 2 (2001) \n",
      "5389 5.0 Spirit: Stallion of the Cimarron (2002) \n",
      "5349 5.0 Spider-Man (2002) \n",
      "5218 5.0 Ice Age (2002) \n",
      "5064 5.0 The Count of Monte Cristo (2002) \n",
      "4993 5.0 Lord of the Rings: The Fellowship of the Ring, The (2001) \n",
      "4973 5.0 Amelie (Fabuleux destin d'AmÃ©lie Poulain, Le) (2001) \n",
      "4896 5.0 Harry Potter and the Sorcerer's Stone (a.k.a. Harry Potter and the Philosopher's Stone) (2001) \n",
      "4886 5.0 Monsters, Inc. (2001) \n",
      "6186 5.0 Gods and Generals (2003) \n",
      "6333 5.0 X2: X-Men United (2003) \n",
      "6377 5.0 Finding Nemo (2003) \n",
      "6534 5.0 Hulk (2003) \n",
      "30816 5.0 Phantom of the Opera, The (2004) \n",
      "30812 5.0 Aviator, The (2004) \n",
      "8972 5.0 National Treasure (2004) \n",
      "8644 5.0 I, Robot (2004) \n",
      "8636 5.0 Spider-Man 2 (2004) \n",
      "8622 5.0 Fahrenheit 9/11 (2004) \n",
      "8533 5.0 Notebook, The (2004) \n",
      "8368 5.0 Harry Potter and the Prisoner of Azkaban (2004) \n",
      "8361 5.0 Day After Tomorrow, The (2004) \n",
      "8360 5.0 Shrek 2 (2004) \n",
      "7454 5.0 Van Helsing (2004) \n",
      "7324 5.0 Hidalgo (2004) \n",
      "7153 5.0 Lord of the Rings: The Return of the King, The (2003) \n",
      "6946 5.0 Looney Tunes: Back in Action (2003) \n",
      "6761 5.0 Tibet: Cry of the Snow Lion (2002) \n",
      "6565 5.0 Seabiscuit (2003) \n",
      "6539 5.0 Pirates of the Caribbean: The Curse of the Black Pearl (2003) \n",
      "4701 5.0 Rush Hour 2 (2001) \n",
      "33162 5.0 Kingdom of Heaven (2005) \n",
      "4270 5.0 Mummy Returns, The (2001) \n",
      "3624 5.0 Shanghai Noon (2000) \n",
      "3785 5.0 Scary Movie (2000) \n",
      "3753 5.0 Patriot, The (2000) \n",
      "3988 5.0 How the Grinch Stole Christmas (a.k.a. The Grinch) (2000) \n",
      "3793 5.0 X-Men (2000) \n",
      "3751 5.0 Chicken Run (2000) \n",
      "3827 5.0 Space Cowboys (2000) \n",
      "4306 5.0 Shrek (2001) \n",
      "3623 5.0 Mission: Impossible II (2000) \n",
      "3598 5.0 Hamlet (2000) \n",
      "3863 5.0 Cell, The (2000) \n",
      "3578 5.0 Gladiator (2000) \n",
      "4370 5.0 A.I. Artificial Intelligence (2001) \n",
      "3755 5.0 Perfect Storm, The (2000) \n",
      "6567 4.5 Buffalo Soldiers (2001) \n",
      "5994 4.5 Nicholas Nickleby (2002) \n",
      "6541 4.5 League of Extraordinary Gentlemen, The (a.k.a. LXG) (2003) \n",
      "5992 4.5 Hours, The (2002) \n",
      "5956 4.5 Gangs of New York (2002) \n",
      "3981 4.5 Red Planet (2000) \n",
      "4386 4.5 Cats & Dogs (2001) \n",
      "6617 4.5 Open Range (2003) \n",
      "6766 4.5 Camera Obscura (2000) \n",
      "6947 4.5 Master and Commander: The Far Side of the World (2003) \n",
      "7143 4.5 Last Samurai, The (2003) \n",
      "7164 4.5 Peter Pan (2003) \n",
      "8526 4.5 Around the World in 80 Days (2004) \n",
      "8640 4.5 King Arthur (2004) \n",
      "8961 4.5 Incredibles, The (2004) \n",
      "8977 4.5 Alexander (2004) \n",
      "3481 4.5 High Fidelity (2000) \n",
      "3408 4.5 Erin Brockovich (2000) \n",
      "5881 4.5 Solaris (2002) \n",
      "6211 4.5 Ten (2002) \n",
      "5171 4.5 Time Machine, The (2002) \n",
      "3354 4.5 Mission to Mars (2000) \n",
      "4016 4.5 Emperor's New Groove, The (2000) \n",
      "4368 4.5 Dr. Dolittle 2 (2001) \n",
      "5378 4.5 Star Wars: Episode II - Attack of the Clones (2002) \n",
      "5313 4.5 The Scorpion King (2002) \n",
      "4020 4.5 Gift, The (2000) \n",
      "5444 4.5 Lilo & Stitch (2002) \n",
      "4638 4.5 Jurassic Park III (2001) \n",
      "4783 4.5 Endurance: Shackleton's Legendary Antarctic Expedition, The (2000) \n",
      "4995 4.0 Beautiful Mind, A (2001) \n",
      "4299 4.0 Knight's Tale, A (2001) \n",
      "7255 4.0 Win a Date with Tad Hamilton! (2004) \n",
      "3996 4.0 Crouching Tiger, Hidden Dragon (Wo hu cang long) (2000) \n",
      "3745 4.0 Titan A.E. (2000) \n",
      "8639 4.0 Clearing, The (2004) \n",
      "4254 4.0 Crocodile Dundee in Los Angeles (2001) \n",
      "3744 4.0 Shaft (2000) \n",
      "3555 4.0 U-571 (2000) \n",
      "4069 4.0 Wedding Planner, The (2001) \n",
      "6550 4.0 Johnny English (2003) \n",
      "4367 4.0 Lara Croft: Tomb Raider (2001) \n",
      "6959 4.0 Timeline (2003) \n",
      "3826 4.0 Hollow Man (2000) \n",
      "6537 4.0 Terminator 3: Rise of the Machines (2003) \n",
      "4366 4.0 Atlantis: The Lost Empire (2001) \n",
      "5833 4.0 Dog Soldiers (2002) \n",
      "30846 4.0 Assassination of Richard Nixon, The (2004) \n",
      "5876 4.0 Quiet American, The (2002) \n",
      "5530 4.0 Simone (S1m0ne) (2002) \n",
      "4446 4.0 Final Fantasy: The Spirits Within (2001) \n",
      "3997 4.0 Dungeons & Dragons (2000) \n",
      "3998 4.0 Proof of Life (2000) \n",
      "6060 4.0 Guru, The (2002) \n",
      "3977 4.0 Charlie's Angels (2000) \n",
      "3889 4.0 Highlander: Endgame (Highlander IV) (2000) \n",
      "5463 4.0 Reign of Fire (2002) \n",
      "8666 4.0 Catwoman (2004) \n",
      "8371 4.0 Chronicles of Riddick, The (2004) \n",
      "8979 3.5 Guerrilla: The Taking of Patty Hearst (2004) \n",
      "3564 3.5 Flintstones in Viva Rock Vegas, The (2000) \n",
      "8981 3.5 Closer (2004) \n",
      "4756 3.5 Musketeer, The (2001) \n",
      "4643 3.5 Planet of the Apes (2001) \n",
      "3510 3.5 Frequency (2000) \n",
      "5670 3.5 Comedian (2002) \n",
      "4958 3.5 Behind Enemy Lines (2001) \n",
      "5872 3.5 Die Another Day (2002) \n",
      "5882 3.5 Treasure Planet (2002) \n",
      "5071 3.5 MaelstrÃ¶m (2000) \n",
      "4232 3.5 Spy Kids (2001) \n",
      "6373 3.5 Bruce Almighty (2003) \n",
      "4310 3.5 Pearl Harbor (2001) \n",
      "6264 3.5 Core, The (2003) \n",
      "6220 3.0 Willard (2003) \n",
      "30894 3.0 White Noise (2005) \n",
      "3986 3.0 6th Day, The (2000) \n",
      "5504 3.0 Spy Kids 2: The Island of Lost Dreams (2002) \n",
      "6157 3.0 Daredevil (2003) \n",
      "8907 3.0 Shark Tale (2004) \n",
      "6703 3.0 Order, The (2003) \n",
      "5328 3.0 Rain (2001) \n",
      "7846 3.0 Tremors 3: Back to Perfection (2001) \n",
      "8865 2.5 Sky Captain and the World of Tomorrow (2004) \n",
      "7458 2.5 Troy (2004) \n",
      "3593 2.5 Battlefield Earth (2000) \n",
      "5478 0.5 Eight Legged Freaks (2002) \n",
      "3300 0.5 Pitch Black (2000) \n"
     ]
    }
   ],
   "source": [
    "# LEAVE AS-IS (TESTING CODE)\n",
    "\n",
    "print_watched_movies(user_id_super, user_movie, movies)"
   ]
  },
  {
   "cell_type": "code",
   "execution_count": 46,
   "metadata": {},
   "outputs": [
    {
     "name": "stdout",
     "output_type": "stream",
     "text": [
      "3967 5.0 Billy Elliot (2000) \n",
      "4014 5.0 Chocolat (2000) \n",
      "4034 5.0 Traffic (2000) \n",
      "5995 5.0 Pianist, The (2002) \n",
      "7147 5.0 Big Fish (2003) \n",
      "4995 5.0 Beautiful Mind, A (2001) \n",
      "3555 5.0 U-571 (2000) \n",
      "6870 5.0 Mystic River (2003) \n",
      "5991 5.0 Chicago (2002) \n",
      "8464 5.0 Super Size Me (2004) \n",
      "5669 5.0 Bowling for Columbine (2002) \n",
      "8622 5.0 Fahrenheit 9/11 (2004) \n",
      "30707 5.0 Million Dollar Baby (2004) \n",
      "6953 4.5 21 Grams (2003) \n",
      "5015 4.5 Monster's Ball (2001) \n",
      "5464 4.5 Road to Perdition (2002) \n",
      "3510 4.5 Frequency (2000) \n",
      "5989 4.5 Catch Me If You Can (2002) \n",
      "4022 4.0 Cast Away (2000) \n",
      "5010 4.0 Black Hawk Down (2001) \n",
      "5299 4.0 My Big Fat Greek Wedding (2002) \n",
      "3897 4.0 Almost Famous (2000) \n",
      "3755 4.0 Perfect Storm, The (2000) \n",
      "4308 4.0 Moulin Rouge (2001) \n",
      "4447 3.5 Legally Blonde (2001) \n",
      "4246 3.5 Bridget Jones's Diary (2001) \n",
      "4975 3.5 Vanilla Sky (2001) \n",
      "4019 3.5 Finding Forrester (2000) \n",
      "5377 3.5 About a Boy (2002) \n",
      "3948 3.5 Meet the Parents (2000) \n",
      "5956 3.0 Gangs of New York (2002) \n",
      "6281 3.0 Phone Booth (2002) \n",
      "7143 3.0 Last Samurai, The (2003) \n",
      "7458 3.0 Troy (2004) \n",
      "5349 3.0 Spider-Man (2002) \n",
      "5902 3.0 Adaptation (2002) \n",
      "5418 3.0 Bourne Identity, The (2002) \n",
      "4993 3.0 Lord of the Rings: The Fellowship of the Ring, The (2001) \n",
      "4310 3.0 Pearl Harbor (2001) \n",
      "4025 2.5 Miss Congeniality (2000) \n",
      "3578 2.5 Gladiator (2000) \n",
      "8644 2.5 I, Robot (2004) \n",
      "4018 2.5 What Women Want (2000) \n",
      "5679 2.5 Ring, The (2002) \n",
      "30825 2.5 Meet the Fockers (2004) \n",
      "4027 2.5 O Brother, Where Art Thou? (2000) \n",
      "4776 2.5 Training Day (2001) \n",
      "4963 2.5 Ocean's Eleven (2001) \n",
      "7438 2.0 Kill Bill: Vol. 2 (2004) \n",
      "3916 2.0 Remember the Titans (2000) \n",
      "8665 2.0 Bourne Supremacy, The (2004) \n",
      "30793 2.0 Charlie and the Chocolate Factory (2005) \n",
      "7153 2.0 Lord of the Rings: The Return of the King, The (2003) \n",
      "6934 1.5 Matrix Revolutions, The (2003) \n",
      "3752 1.0 Me, Myself & Irene (2000) \n",
      "8798 1.0 Collateral (2004) \n"
     ]
    }
   ],
   "source": [
    "# LEAVE AS-IS (TESTING CODE)\n",
    "\n",
    "print_watched_movies(user_id_drama, user_movie, movies)"
   ]
  },
  {
   "cell_type": "markdown",
   "metadata": {},
   "source": [
    "<font size=\"+1\" color=\"red\">Replace this cell with your code for \"get_movies_relevance\"</font>"
   ]
  },
  {
   "cell_type": "code",
   "execution_count": 47,
   "metadata": {},
   "outputs": [],
   "source": [
    "def get_movies_relevance(user_id, user_movie, item_similarity_matrix):\n",
    "\n",
    "    # Create an empty series\n",
    "    movies_relevance = pd.Series()\n",
    "\n",
    "    # Iterate through the movies the user has watched\n",
    "    for watched_movie in user_movie.columns:\n",
    "\n",
    "        # Obtain the rating given\n",
    "        rating_given = user_movie.at[user_id, watched_movie]\n",
    "\n",
    "        # Obtain the vector containing the similarities of watched_movie\n",
    "        # with all other movies in item_similarity_matrix\n",
    "        similarities = item_similarity_matrix[watched_movie]\n",
    "\n",
    "        # Multiply this vector by the given rating\n",
    "        weighted_similarities = item_similarity_matrix * rating_given\n",
    "\n",
    "        # Append these terms to movies_relevance\n",
    "        movies_relevance = pd.concat([movies_relevance, weighted_similarities])\n",
    "\n",
    "    # Compute the sum for each movie\n",
    "    movies_relevance = movies_relevance.groupby(movies_relevance.index).sum()\n",
    "\n",
    "    # Convert to a dataframe\n",
    "    movies_relevance_df = pd.DataFrame(movies_relevance, columns=['relevance'])\n",
    "    movies_relevance_df['movie_id'] = movies_relevance_df.index\n",
    "\n",
    "    return movies_relevance_df"
   ]
  },
  {
   "cell_type": "markdown",
   "metadata": {},
   "source": [
    "<font size=\"+1\" color=\"red\">Replace this cell with your code to obtain the 5 most relevant movies for the users user_id_super (who likes superhero movies) and user_id_drama (who likes dramas)</font>"
   ]
  },
  {
   "cell_type": "code",
   "execution_count": null,
   "metadata": {},
   "outputs": [],
   "source": [
    "movies_relevance_super = get_movies_relevance(user_id_super, user_movie, item_similarity)\n",
    "movies_relevance_drama = get_movies_relevance(user_id_drama, user_movie, item_similarity)\n",
    "\n",
    "\n",
    "# Merge the relevance results with the movies DataFrame to get movie titles\n",
    "movies_relevance_super = movies_relevance_super.merge(movies, on='movie_id', how='left')\n",
    "movies_relevance_drama = movies_relevance_drama.merge(movies, on='movie_id', how='left')\n",
    "\n",
    "#sort them descending\n",
    "movies_relevance_super = movies_relevance_super.sort_values(by='relevance', ascending=False)\n",
    "movies_relevance_drama = movies_relevance_drama.sort_values(by='relevance', ascending=False)\n",
    "\n",
    "\n",
    "print(movies_relevance_super.head(5))\n",
    "print(movies_relevance_drama.head(5))"
   ]
  },
  {
   "cell_type": "markdown",
   "metadata": {},
   "source": [
    "<font size=\"+1\" color=\"red\">Replace this cell with a brief commentary on the movies you see on these lists. How many of them look relevant for the intended users? Feel free to use IMDB or Wikipedia to get info on these movies.</font>\n",
    "\n",
    "<font size=\"-1\" color=\"gray\">All those trivial facts you learned about 1980s and 1990s pop culture were supposed to be useful one day; that day has arrived :-)</font>"
   ]
  },
  {
   "cell_type": "markdown",
   "metadata": {},
   "source": [
    "<font size=\"+1\" color=\"red\">Replace this cell with your code implementing \"get_recommended_movies\"</font>"
   ]
  },
  {
   "cell_type": "markdown",
   "metadata": {},
   "source": [
    "<font size=\"+1\" color=\"red\">Replace this cell with your code to obtain the 10 most recommended movies for the users user_id_super and user_id_drama</font>"
   ]
  },
  {
   "cell_type": "markdown",
   "metadata": {},
   "source": [
    "<font size=\"+1\" color=\"red\">Replace this cell with a brief commentary on these recommendations. Do you think they are relevant? Why or why not? After removing the movies the user has already watched, are the relevance scores of the remaining items comparable to the previous lists that contained all relevant movies?</font>"
   ]
  },
  {
   "cell_type": "markdown",
   "metadata": {},
   "source": [
    "<font size=\"+2\" color=\"#003300\">I hereby declare that, except for the code provided by the course instructors, all of my code, report, and figures were produced by myself.</font>"
   ]
  }
 ],
 "metadata": {
  "kernelspec": {
   "display_name": "Python 3",
   "language": "python",
   "name": "python3"
  },
  "language_info": {
   "codemirror_mode": {
    "name": "ipython",
    "version": 3
   },
   "file_extension": ".py",
   "mimetype": "text/x-python",
   "name": "python",
   "nbconvert_exporter": "python",
   "pygments_lexer": "ipython3",
   "version": "3.8.8"
  }
 },
 "nbformat": 4,
 "nbformat_minor": 2
}
