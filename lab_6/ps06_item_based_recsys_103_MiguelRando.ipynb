{
 "cells": [
  {
   "cell_type": "markdown",
   "metadata": {},
   "source": [
    "# Practice PS06: Recommendations engines (interactions-based)"
   ]
  },
  {
   "cell_type": "markdown",
   "metadata": {},
   "source": [
    "For this assignment we will build and apply an item-based and model-based collaborative filtering recommenders for movies. "
   ]
  },
  {
   "cell_type": "markdown",
   "metadata": {},
   "source": [
    "Author: <font color=\"blue\">Miguel Rando</font>\n",
    "\n",
    "E-mail: <font color=\"blue\">miguel.rando01@estudiant.upf.edu</font>\n",
    "\n",
    "Date: <font color=\"blue\">8/11/24</font>"
   ]
  },
  {
   "cell_type": "markdown",
   "metadata": {},
   "source": [
    "# 1. The Movies dataset"
   ]
  },
  {
   "cell_type": "markdown",
   "metadata": {},
   "source": [
    "# 1.1. Load the input files"
   ]
  },
  {
   "cell_type": "code",
   "execution_count": 1,
   "metadata": {},
   "outputs": [],
   "source": [
    "# Leave this code as-is\n",
    "\n",
    "import numpy as np\n",
    "import pandas as pd \n",
    "import matplotlib.pyplot as plt\n",
    "from math import*\n",
    "from scipy.sparse.linalg import svds\n",
    "from sklearn.metrics.pairwise import linear_kernel"
   ]
  },
  {
   "cell_type": "code",
   "execution_count": 2,
   "metadata": {},
   "outputs": [],
   "source": [
    "# Leave this code as-is\n",
    "\n",
    "FILENAME_MOVIES = \"movies-2000s.csv\"\n",
    "FILENAME_RATINGS = \"ratings-2000s.csv\"\n",
    "FILENAME_TAGS = \"tags-2000s.csv\""
   ]
  },
  {
   "cell_type": "code",
   "execution_count": 3,
   "metadata": {},
   "outputs": [
    {
     "data": {
      "text/html": [
       "<div>\n",
       "<style scoped>\n",
       "    .dataframe tbody tr th:only-of-type {\n",
       "        vertical-align: middle;\n",
       "    }\n",
       "\n",
       "    .dataframe tbody tr th {\n",
       "        vertical-align: top;\n",
       "    }\n",
       "\n",
       "    .dataframe thead th {\n",
       "        text-align: right;\n",
       "    }\n",
       "</style>\n",
       "<table border=\"1\" class=\"dataframe\">\n",
       "  <thead>\n",
       "    <tr style=\"text-align: right;\">\n",
       "      <th></th>\n",
       "      <th>movie_id</th>\n",
       "      <th>title</th>\n",
       "      <th>genres</th>\n",
       "    </tr>\n",
       "  </thead>\n",
       "  <tbody>\n",
       "    <tr>\n",
       "      <th>0</th>\n",
       "      <td>2769</td>\n",
       "      <td>Yards, The (2000)</td>\n",
       "      <td>Crime|Drama</td>\n",
       "    </tr>\n",
       "    <tr>\n",
       "      <th>1</th>\n",
       "      <td>3177</td>\n",
       "      <td>Next Friday (2000)</td>\n",
       "      <td>Comedy</td>\n",
       "    </tr>\n",
       "    <tr>\n",
       "      <th>2</th>\n",
       "      <td>3190</td>\n",
       "      <td>Supernova (2000)</td>\n",
       "      <td>Adventure|Sci-Fi|Thriller</td>\n",
       "    </tr>\n",
       "    <tr>\n",
       "      <th>3</th>\n",
       "      <td>3225</td>\n",
       "      <td>Down to You (2000)</td>\n",
       "      <td>Comedy|Romance</td>\n",
       "    </tr>\n",
       "    <tr>\n",
       "      <th>4</th>\n",
       "      <td>3228</td>\n",
       "      <td>Wirey Spindell (2000)</td>\n",
       "      <td>Comedy</td>\n",
       "    </tr>\n",
       "  </tbody>\n",
       "</table>\n",
       "</div>"
      ],
      "text/plain": [
       "   movie_id                  title                     genres\n",
       "0      2769      Yards, The (2000)                Crime|Drama\n",
       "1      3177     Next Friday (2000)                     Comedy\n",
       "2      3190       Supernova (2000)  Adventure|Sci-Fi|Thriller\n",
       "3      3225     Down to You (2000)             Comedy|Romance\n",
       "4      3228  Wirey Spindell (2000)                     Comedy"
      ]
     },
     "metadata": {},
     "output_type": "display_data"
    },
    {
     "data": {
      "text/html": [
       "<div>\n",
       "<style scoped>\n",
       "    .dataframe tbody tr th:only-of-type {\n",
       "        vertical-align: middle;\n",
       "    }\n",
       "\n",
       "    .dataframe tbody tr th {\n",
       "        vertical-align: top;\n",
       "    }\n",
       "\n",
       "    .dataframe thead th {\n",
       "        text-align: right;\n",
       "    }\n",
       "</style>\n",
       "<table border=\"1\" class=\"dataframe\">\n",
       "  <thead>\n",
       "    <tr style=\"text-align: right;\">\n",
       "      <th></th>\n",
       "      <th>user_id</th>\n",
       "      <th>movie_id</th>\n",
       "      <th>rating</th>\n",
       "    </tr>\n",
       "  </thead>\n",
       "  <tbody>\n",
       "    <tr>\n",
       "      <th>0</th>\n",
       "      <td>4</td>\n",
       "      <td>1</td>\n",
       "      <td>3.0</td>\n",
       "    </tr>\n",
       "    <tr>\n",
       "      <th>1</th>\n",
       "      <td>4</td>\n",
       "      <td>260</td>\n",
       "      <td>3.5</td>\n",
       "    </tr>\n",
       "    <tr>\n",
       "      <th>2</th>\n",
       "      <td>4</td>\n",
       "      <td>296</td>\n",
       "      <td>4.0</td>\n",
       "    </tr>\n",
       "    <tr>\n",
       "      <th>3</th>\n",
       "      <td>4</td>\n",
       "      <td>541</td>\n",
       "      <td>4.5</td>\n",
       "    </tr>\n",
       "    <tr>\n",
       "      <th>4</th>\n",
       "      <td>4</td>\n",
       "      <td>589</td>\n",
       "      <td>4.0</td>\n",
       "    </tr>\n",
       "  </tbody>\n",
       "</table>\n",
       "</div>"
      ],
      "text/plain": [
       "   user_id  movie_id  rating\n",
       "0        4         1     3.0\n",
       "1        4       260     3.5\n",
       "2        4       296     4.0\n",
       "3        4       541     4.5\n",
       "4        4       589     4.0"
      ]
     },
     "metadata": {},
     "output_type": "display_data"
    }
   ],
   "source": [
    "# Leave this code as-is\n",
    "\n",
    "movies = pd.read_csv(FILENAME_MOVIES, \n",
    "                    sep=',', \n",
    "                    engine='python', \n",
    "                    encoding='latin-1',\n",
    "                    names=['movie_id', 'title', 'genres'])\n",
    "display(movies.head(5))\n",
    "\n",
    "ratings_raw = pd.read_csv(FILENAME_RATINGS, \n",
    "                    sep=',', \n",
    "                    encoding='latin-1',\n",
    "                    engine='python',\n",
    "                    names=['user_id', 'movie_id', 'rating'])\n",
    "display(ratings_raw.head(5))"
   ]
  },
  {
   "cell_type": "markdown",
   "metadata": {},
   "source": [
    "# 1.2. Merge the data into a single dataframe"
   ]
  },
  {
   "cell_type": "markdown",
   "metadata": {},
   "source": [
    "<font size=\"+1\" color=\"red\">Replace this cell with your code from the previous practice that joined these three dataframes using \"merge\" into a single dataframe named \"ratings\". Print the first 5 rows of the resulting dataframe, which should contain columns \"user_id\", \"movie_id\", \"rating\", \"title\", and \"genres\".</font>"
   ]
  },
  {
   "cell_type": "code",
   "execution_count": 4,
   "metadata": {},
   "outputs": [
    {
     "data": {
      "text/html": [
       "<div>\n",
       "<style scoped>\n",
       "    .dataframe tbody tr th:only-of-type {\n",
       "        vertical-align: middle;\n",
       "    }\n",
       "\n",
       "    .dataframe tbody tr th {\n",
       "        vertical-align: top;\n",
       "    }\n",
       "\n",
       "    .dataframe thead th {\n",
       "        text-align: right;\n",
       "    }\n",
       "</style>\n",
       "<table border=\"1\" class=\"dataframe\">\n",
       "  <thead>\n",
       "    <tr style=\"text-align: right;\">\n",
       "      <th></th>\n",
       "      <th>user_id</th>\n",
       "      <th>movie_id</th>\n",
       "      <th>rating</th>\n",
       "      <th>title</th>\n",
       "      <th>genres</th>\n",
       "    </tr>\n",
       "  </thead>\n",
       "  <tbody>\n",
       "    <tr>\n",
       "      <th>0</th>\n",
       "      <td>4</td>\n",
       "      <td>3624</td>\n",
       "      <td>2.5</td>\n",
       "      <td>Shanghai Noon (2000)</td>\n",
       "      <td>Action|Adventure|Comedy|Western</td>\n",
       "    </tr>\n",
       "    <tr>\n",
       "      <th>1</th>\n",
       "      <td>152</td>\n",
       "      <td>3624</td>\n",
       "      <td>3.0</td>\n",
       "      <td>Shanghai Noon (2000)</td>\n",
       "      <td>Action|Adventure|Comedy|Western</td>\n",
       "    </tr>\n",
       "    <tr>\n",
       "      <th>2</th>\n",
       "      <td>171</td>\n",
       "      <td>3624</td>\n",
       "      <td>3.5</td>\n",
       "      <td>Shanghai Noon (2000)</td>\n",
       "      <td>Action|Adventure|Comedy|Western</td>\n",
       "    </tr>\n",
       "    <tr>\n",
       "      <th>3</th>\n",
       "      <td>276</td>\n",
       "      <td>3624</td>\n",
       "      <td>4.0</td>\n",
       "      <td>Shanghai Noon (2000)</td>\n",
       "      <td>Action|Adventure|Comedy|Western</td>\n",
       "    </tr>\n",
       "    <tr>\n",
       "      <th>4</th>\n",
       "      <td>494</td>\n",
       "      <td>3624</td>\n",
       "      <td>3.5</td>\n",
       "      <td>Shanghai Noon (2000)</td>\n",
       "      <td>Action|Adventure|Comedy|Western</td>\n",
       "    </tr>\n",
       "  </tbody>\n",
       "</table>\n",
       "</div>"
      ],
      "text/plain": [
       "   user_id  movie_id  rating                 title  \\\n",
       "0        4      3624     2.5  Shanghai Noon (2000)   \n",
       "1      152      3624     3.0  Shanghai Noon (2000)   \n",
       "2      171      3624     3.5  Shanghai Noon (2000)   \n",
       "3      276      3624     4.0  Shanghai Noon (2000)   \n",
       "4      494      3624     3.5  Shanghai Noon (2000)   \n",
       "\n",
       "                            genres  \n",
       "0  Action|Adventure|Comedy|Western  \n",
       "1  Action|Adventure|Comedy|Western  \n",
       "2  Action|Adventure|Comedy|Western  \n",
       "3  Action|Adventure|Comedy|Western  \n",
       "4  Action|Adventure|Comedy|Western  "
      ]
     },
     "metadata": {},
     "output_type": "display_data"
    }
   ],
   "source": [
    "ratings_selected = ratings_raw[['user_id', 'movie_id', 'rating']]\n",
    "movies_selected = movies[['movie_id', 'title', 'genres']]\n",
    "\n",
    "# Unir los dos dataframes usando solo las columnas seleccionadas\n",
    "ratings = pd.merge(ratings_selected, movies_selected, on='movie_id')\n",
    "\n",
    "\n",
    "display(ratings.head(5))"
   ]
  },
  {
   "cell_type": "markdown",
   "metadata": {},
   "source": [
    "<font size=\"+1\" color=\"red\">Replace this cell with your code from the previous practice for \"find_movies\" that list movies containing a keyword</font>"
   ]
  },
  {
   "cell_type": "code",
   "execution_count": 5,
   "metadata": {},
   "outputs": [],
   "source": [
    "def find_movies(keyword, movies_df):\n",
    "    # convert keyword to lowercase \n",
    "    keyword_lower = keyword.lower()\n",
    "    \n",
    "    # filter movies \n",
    "    matching_movies = movies_df[movies_df['title'].str.lower().str.contains(keyword_lower, na=False)]\n",
    "    \n",
    "    # print each matching movie ID and title\n",
    "    print(matching_movies[['movie_id', 'title']].to_string(index=False, header=False))\n"
   ]
  },
  {
   "cell_type": "code",
   "execution_count": 6,
   "metadata": {},
   "outputs": [
    {
     "name": "stdout",
     "output_type": "stream",
     "text": [
      "  5349                                Spider-Man (2002)\n",
      "  8636                              Spider-Man 2 (2004)\n",
      " 52722                              Spider-Man 3 (2007)\n",
      " 76709 Spider-Man: The Ultimate Villain Showdown (2002)\n",
      " 95510                   Amazing Spider-Man, The (2012)\n",
      "110553                  The Amazing Spider-Man 2 (2014)\n",
      "122926                Untitled Spider-Man Reboot (2017)\n",
      "195159         Spider-Man: Into the Spider-Verse (2018)\n",
      "201773                 Spider-Man: Far from Home (2019)\n"
     ]
    }
   ],
   "source": [
    "# LEAVE AS-IS\n",
    "\n",
    "# For testing, this should print 9 movies\n",
    "find_movies(\"Spider-Man\", movies)"
   ]
  },
  {
   "cell_type": "code",
   "execution_count": 7,
   "metadata": {},
   "outputs": [],
   "source": [
    "# LEAVE AS-IS\n",
    "\n",
    "def get_title(movie_id, movies):\n",
    "    return movies[movies['movie_id'] == movie_id].title.iloc[0]"
   ]
  },
  {
   "cell_type": "code",
   "execution_count": 8,
   "metadata": {},
   "outputs": [
    {
     "name": "stdout",
     "output_type": "stream",
     "text": [
      "Spider-Man 2 (2004)\n"
     ]
    }
   ],
   "source": [
    "# LEAVE AS-IS\n",
    "\n",
    "# For testing, should print \"Spider-Man 2 (2004)\"\n",
    "print(get_title(8636, movies))"
   ]
  },
  {
   "cell_type": "markdown",
   "metadata": {},
   "source": [
    "## 1.3. Count unique registers"
   ]
  },
  {
   "cell_type": "markdown",
   "metadata": {},
   "source": [
    "<font size=\"+1\" color=\"red\">Replace this cell with your own code to indicate the number of unique users and unique movies in the \"ratings\" variable.</font>"
   ]
  },
  {
   "cell_type": "code",
   "execution_count": 9,
   "metadata": {},
   "outputs": [
    {
     "name": "stdout",
     "output_type": "stream",
     "text": [
      "Number of users who have rated a movie : 12676\n",
      "Number of movies that have been rated  : 2049\n",
      "Total number of movies                 : 33168\n"
     ]
    }
   ],
   "source": [
    "num_unique_users = len(ratings['user_id'].unique())\n",
    "\n",
    "num_rated_movies = len(ratings['movie_id'].unique())\n",
    "\n",
    "total_movies = len(movies['movie_id'].unique())\n",
    "\n",
    "print(f\"Number of users who have rated a movie : {num_unique_users}\")\n",
    "print(f\"Number of movies that have been rated  : {num_rated_movies}\")\n",
    "print(f\"Total number of movies                 : {total_movies}\")"
   ]
  },
  {
   "cell_type": "markdown",
   "metadata": {},
   "source": [
    "# 2. Item-based Collaborative Filtering"
   ]
  },
  {
   "cell_type": "markdown",
   "metadata": {},
   "source": [
    "## 2.1. Data pre-processing"
   ]
  },
  {
   "cell_type": "markdown",
   "metadata": {},
   "source": [
    "<font size=\"+1\" color=\"red\">Replace this cell with your code to generate \"rated_movies\" and print the first ten rows. This should have columns user_id, movie_id, rating, title</font>"
   ]
  },
  {
   "cell_type": "code",
   "execution_count": 10,
   "metadata": {},
   "outputs": [
    {
     "name": "stdout",
     "output_type": "stream",
     "text": [
      "   user_id  movie_id  rating                 title\n",
      "0        4      3624     2.5  Shanghai Noon (2000)\n",
      "1      152      3624     3.0  Shanghai Noon (2000)\n",
      "2      171      3624     3.5  Shanghai Noon (2000)\n",
      "3      276      3624     4.0  Shanghai Noon (2000)\n",
      "4      494      3624     3.5  Shanghai Noon (2000)\n"
     ]
    }
   ],
   "source": [
    "rated_movies = ratings.drop(columns = 'genres')\n",
    "\n",
    "print(rated_movies.head(5))"
   ]
  },
  {
   "cell_type": "markdown",
   "metadata": {},
   "source": [
    "<font size=\"+1\" color=\"red\">Replace this cell with your code to generate \"ratings_summary\" and print the first 10 rows.</font>"
   ]
  },
  {
   "cell_type": "code",
   "execution_count": 11,
   "metadata": {},
   "outputs": [],
   "source": [
    "# we only keep one row per film\n",
    "ratings_summary = rated_movies.groupby('title').first()\n",
    "\n",
    "# we compute the series for each film\n",
    "ratings_mean = rated_movies.groupby('title')['rating'].mean()\n",
    "ratings_count = rated_movies.groupby('title')['rating'].count()\n",
    "\n",
    "# here we add the series as columns to the dataframe\n",
    "ratings_summary['ratings_mean'] = ratings_mean\n",
    "ratings_summary['ratings_count'] = ratings_count\n",
    "\n",
    "\n",
    "# we drop the rating column as we dont need it any more\n",
    "ratings_summary = ratings_summary.drop(columns = ['rating', 'user_id'])\n"
   ]
  },
  {
   "cell_type": "markdown",
   "metadata": {},
   "source": [
    "<font size=\"+1\" color=\"red\">Replace this cell with code to print the top 5 highest rated movies, considering only movies receiving at least 100 ratings.</font>"
   ]
  },
  {
   "cell_type": "code",
   "execution_count": 12,
   "metadata": {},
   "outputs": [
    {
     "name": "stdout",
     "output_type": "stream",
     "text": [
      "                                                    movie_id  ratings_mean  \\\n",
      "title                                                                        \n",
      "Spirited Away (Sen to Chihiro no kamikakushi) (...      5618      4.215216   \n",
      "City of God (Cidade de Deus) (2002)                     6016      4.186592   \n",
      "Memento (2000)                                          4226      4.158512   \n",
      "Fog of War: Eleven Lessons from the Life of Rob...      7156      4.112013   \n",
      "Amelie (Fabuleux destin d'AmÃ©lie Poulain, Le) ...      4973      4.097234   \n",
      "\n",
      "                                                    ratings_count  \n",
      "title                                                              \n",
      "Spirited Away (Sen to Chihiro no kamikakushi) (...           2458  \n",
      "City of God (Cidade de Deus) (2002)                          2133  \n",
      "Memento (2000)                                               4476  \n",
      "Fog of War: Eleven Lessons from the Life of Rob...            308  \n",
      "Amelie (Fabuleux destin d'AmÃ©lie Poulain, Le) ...           3687  \n"
     ]
    }
   ],
   "source": [
    "#  at least 100 ratings\n",
    "ratings_100 = ratings_summary[ratings_summary.ratings_count >= 100]\n",
    "\n",
    "# sort by decreasing value of ratings\n",
    "ratings_sorted = ratings_100.sort_values(by='ratings_mean', ascending=False)\n",
    "\n",
    "print(ratings_sorted.head(5))"
   ]
  },
  {
   "cell_type": "markdown",
   "metadata": {},
   "source": [
    "<font size=\"+1\" color=\"red\">Repeat this, but this time consider movies receiving at least 3 ratings.</font>"
   ]
  },
  {
   "cell_type": "code",
   "execution_count": 13,
   "metadata": {},
   "outputs": [
    {
     "name": "stdout",
     "output_type": "stream",
     "text": [
      "                                                 movie_id  ratings_mean  \\\n",
      "title                                                                     \n",
      "Rumor of Angels, A (2000)                            5082      4.666667   \n",
      "2LDK (2003)                                         27764      4.500000   \n",
      "Beautiful City (Shah-re ziba) (2004)                31954      4.400000   \n",
      "Promises (2001)                                      5224      4.388889   \n",
      "Surplus: Terrorized Into Being Consumers (2003)     31856      4.333333   \n",
      "\n",
      "                                                 ratings_count  \n",
      "title                                                           \n",
      "Rumor of Angels, A (2000)                                    6  \n",
      "2LDK (2003)                                                  3  \n",
      "Beautiful City (Shah-re ziba) (2004)                         5  \n",
      "Promises (2001)                                             18  \n",
      "Surplus: Terrorized Into Being Consumers (2003)              3  \n"
     ]
    }
   ],
   "source": [
    "#  at least 3 ratings\n",
    "ratings_3 = ratings_summary[ratings_summary.ratings_count >= 3]\n",
    "\n",
    "# sort by decreasing value of ratings\n",
    "ratings_sorted = ratings_3.sort_values(by='ratings_mean', ascending=False)\n",
    "\n",
    "print(ratings_sorted.head(5))"
   ]
  },
  {
   "cell_type": "markdown",
   "metadata": {},
   "source": [
    "<font size=\"+1\" color=\"red\">Replace this cell with a brief commentary, in your own words, on what happens when the number of ratings is set to a small value.</font>"
   ]
  },
  {
   "cell_type": "markdown",
   "metadata": {},
   "source": [
    "With small number of ratings, the rating mean is higher, as it is easier to have a greater mean because if someone rate the film with a very high value (5 for example), the impact of this rating in the mean is going to have a grater impact. Thats why the 5 films with better rating mean have few rating count."
   ]
  },
  {
   "cell_type": "markdown",
   "metadata": {},
   "source": [
    "## 2.2. Compute the user-movie matrix"
   ]
  },
  {
   "cell_type": "markdown",
   "metadata": {},
   "source": [
    "<font size=\"+1\" color=\"red\">Replace this cell with code to generate a \"user_movie\" matrix by calling \"pivot_table\" on \"rated_movies\". Print the first 5 rows. It might take about one minute to compute, depending on your computer.</font>"
   ]
  },
  {
   "cell_type": "code",
   "execution_count": 14,
   "metadata": {},
   "outputs": [
    {
     "name": "stdout",
     "output_type": "stream",
     "text": [
      "movie_id  2769   3177   3190   3225   3228   3239   3273   3275   3276   \\\n",
      "user_id                                                                   \n",
      "4           NaN    NaN    NaN    NaN    NaN    NaN    NaN    NaN    NaN   \n",
      "33          NaN    NaN    NaN    NaN    NaN    NaN    NaN    NaN    NaN   \n",
      "62          NaN    NaN    NaN    NaN    NaN    NaN    NaN    4.5    NaN   \n",
      "63          NaN    NaN    NaN    NaN    NaN    NaN    NaN    NaN    NaN   \n",
      "95          NaN    NaN    NaN    NaN    NaN    NaN    NaN    3.5    NaN   \n",
      "...         ...    ...    ...    ...    ...    ...    ...    ...    ...   \n",
      "162488      NaN    NaN    NaN    NaN    NaN    NaN    NaN    4.5    NaN   \n",
      "162513      NaN    NaN    NaN    NaN    NaN    NaN    NaN    NaN    NaN   \n",
      "162527      NaN    NaN    NaN    NaN    NaN    NaN    NaN    NaN    NaN   \n",
      "162533      NaN    NaN    NaN    NaN    NaN    NaN    NaN    NaN    NaN   \n",
      "162536      NaN    NaN    NaN    NaN    NaN    NaN    NaN    NaN    NaN   \n",
      "\n",
      "movie_id  3279   ...  33138  33145  33148  33150  33152  33154  33158  33162  \\\n",
      "user_id          ...                                                           \n",
      "4           NaN  ...    NaN    NaN    NaN    NaN    NaN    NaN    NaN    NaN   \n",
      "33          NaN  ...    NaN    NaN    NaN    NaN    NaN    NaN    NaN    NaN   \n",
      "62          NaN  ...    NaN    NaN    NaN    NaN    NaN    NaN    NaN    NaN   \n",
      "63          NaN  ...    NaN    NaN    NaN    NaN    NaN    NaN    NaN    NaN   \n",
      "95          NaN  ...    NaN    NaN    NaN    NaN    NaN    NaN    NaN    NaN   \n",
      "...         ...  ...    ...    ...    ...    ...    ...    ...    ...    ...   \n",
      "162488      NaN  ...    NaN    NaN    NaN    NaN    NaN    NaN    NaN    NaN   \n",
      "162513      NaN  ...    NaN    NaN    NaN    NaN    NaN    NaN    NaN    NaN   \n",
      "162527      NaN  ...    NaN    NaN    NaN    NaN    NaN    NaN    NaN    NaN   \n",
      "162533      NaN  ...    NaN    NaN    NaN    NaN    NaN    NaN    NaN    NaN   \n",
      "162536      NaN  ...    NaN    NaN    NaN    NaN    NaN    NaN    NaN    NaN   \n",
      "\n",
      "movie_id  33164  33166  \n",
      "user_id                 \n",
      "4           NaN    NaN  \n",
      "33          NaN    NaN  \n",
      "62          NaN    3.5  \n",
      "63          NaN    NaN  \n",
      "95          NaN    NaN  \n",
      "...         ...    ...  \n",
      "162488      NaN    NaN  \n",
      "162513      NaN    NaN  \n",
      "162527      NaN    NaN  \n",
      "162533      NaN    4.0  \n",
      "162536      NaN    3.5  \n",
      "\n",
      "[12676 rows x 2049 columns]\n"
     ]
    }
   ],
   "source": [
    "user_movie = rated_movies.pivot_table( index = 'user_id', columns = 'movie_id', values = 'rating')\n",
    "\n",
    "print(user_movie)"
   ]
  },
  {
   "cell_type": "markdown",
   "metadata": {},
   "source": [
    "<font size=\"+1\" color=\"red\">Replace this a brief commentary indicating why do you think the \"user_movie\" matrix has so many \"NaN\" values. How do we call this characteristic of user ratings in recommender systems?</font>"
   ]
  },
  {
   "cell_type": "markdown",
   "metadata": {},
   "source": [
    "Because users only rate some films, and there are a lot of films that are not rated by the big part of the users.\n",
    "We call it sparsity."
   ]
  },
  {
   "cell_type": "markdown",
   "metadata": {},
   "source": [
    "# 2.3. Explore some correlations in the user-movie matrix"
   ]
  },
  {
   "cell_type": "markdown",
   "metadata": {},
   "source": [
    "<font size=\"+1\" color=\"red\">Replace this cell with code to compute and display the first 10 rows of the \"ratings3\" table as described above.</font>"
   ]
  },
  {
   "cell_type": "code",
   "execution_count": 15,
   "metadata": {},
   "outputs": [
    {
     "name": "stdout",
     "output_type": "stream",
     "text": [
      "4993 Lord of the Rings: The Fellowship of the Ring, The (2001)\n",
      "5952             Lord of the Rings: The Two Towers, The (2002)\n",
      "7153     Lord of the Rings: The Return of the King, The (2003)\n",
      "6377 Finding Nemo (2003)\n",
      "5878 Talk to Her (Hable con Ella) (2002)\n"
     ]
    }
   ],
   "source": [
    "find_movies(\"Lord of the Rings\", movies)\n",
    "find_movies(\"Finding Nemo\", movies)\n",
    "find_movies(\"Talk to Her\", movies)"
   ]
  },
  {
   "cell_type": "code",
   "execution_count": 16,
   "metadata": {
    "scrolled": true
   },
   "outputs": [
    {
     "name": "stdout",
     "output_type": "stream",
     "text": [
      "         4993  6377  5878\n",
      "user_id                  \n",
      "859       3.0   4.0   5.0\n",
      "1229      4.0   4.0   4.5\n",
      "1281      3.0   2.5   3.0\n",
      "1722      5.0   4.5   4.0\n",
      "2004      4.5   3.0   3.5\n",
      "4590      4.0   4.0   2.0\n",
      "5052      2.0   4.0   4.0\n",
      "5144      5.0   5.0   5.0\n",
      "6497      3.5   3.5   3.5\n",
      "8369      3.0   4.0   4.5\n"
     ]
    }
   ],
   "source": [
    "id_pivot = 4993\n",
    "id_m1 = 6377\n",
    "id_m2 = 5878\n",
    "\n",
    "\n",
    "s1 = user_movie[id_pivot].dropna()\n",
    "s2 = user_movie[id_m1].dropna()\n",
    "s3 = user_movie[id_m2].dropna()\n",
    "\n",
    "ratings3 = pd.concat([s1, s2, s3], axis=1)\n",
    "\n",
    "ratings3 = ratings3.dropna()\n",
    "\n",
    "print(ratings3.head(10))"
   ]
  },
  {
   "cell_type": "markdown",
   "metadata": {},
   "source": [
    "<font size=\"+1\" color=\"red\">Replace this cell with code to compute all correlations between these three movies, as described above.</font>"
   ]
  },
  {
   "cell_type": "code",
   "execution_count": 17,
   "metadata": {},
   "outputs": [
    {
     "name": "stdout",
     "output_type": "stream",
     "text": [
      "Similarity between 'Lord of the Rings: The Fellowship of the Ring, The (2001)' and 'Finding Nemo (2003)': 0.38\n",
      "Similarity between 'Lord of the Rings: The Fellowship of the Ring, The (2001)' and 'Talk to Her (Hable con Ella) (2002)': 0.16\n",
      "Similarity between 'Finding Nemo (2003)' and 'Talk to Her (Hable con Ella) (2002)': 0.20\n"
     ]
    }
   ],
   "source": [
    "similarity_1 = ratings3[id_pivot].corr(ratings3[id_m1])  # Lord of the Rings and Finding Nemo\n",
    "similarity_2 = ratings3[id_pivot].corr(ratings3[id_m2])  # Lord of the Rings and Talk to Her\n",
    "similarity_3 = ratings3[id_m1].corr(ratings3[id_m2])  # Finding Nemo and Talk to Her\n",
    "\n",
    "\n",
    "# print the similarities\n",
    "print(f\"Similarity between 'Lord of the Rings: The Fellowship of the Ring, The (2001)' and 'Finding Nemo (2003)': {similarity_1:.2f}\")\n",
    "print(f\"Similarity between 'Lord of the Rings: The Fellowship of the Ring, The (2001)' and 'Talk to Her (Hable con Ella) (2002)': {similarity_2:.2f}\")\n",
    "print(f\"Similarity between 'Finding Nemo (2003)' and 'Talk to Her (Hable con Ella) (2002)': {similarity_3:.2f}\")"
   ]
  },
  {
   "cell_type": "markdown",
   "metadata": {},
   "source": [
    "<font size=\"+1\" color=\"red\">Replace this cell with a brief commentary on the correlations you find.</font>"
   ]
  },
  {
   "cell_type": "markdown",
   "metadata": {},
   "source": [
    "The higher correlation is between Lord of the Ring and Nemo. It is normal because they have the same gender (fiction) so people who likes one of it, tends to like the other."
   ]
  },
  {
   "cell_type": "markdown",
   "metadata": {},
   "source": [
    "<font size=\"+1\" color=\"red\">Replace this cell with code to create a \"similarity_to_pivot\" series that contains the computed correlations, droping the NaNs in the series.</font>"
   ]
  },
  {
   "cell_type": "code",
   "execution_count": 18,
   "metadata": {
    "scrolled": true
   },
   "outputs": [
    {
     "name": "stdout",
     "output_type": "stream",
     "text": [
      "   movie_id  corr_with_pivot\n",
      "0      2769        -0.127515\n",
      "1      3177         0.093221\n",
      "2      3190         0.041206\n",
      "3      3225         0.126600\n",
      "4      3228              NaN\n"
     ]
    }
   ],
   "source": [
    "df_pivot = pd.DataFrame(user_movie[id_pivot].dropna()).rename(columns={id_pivot: \"rating\"})\n",
    "\n",
    "# create an empty list to store the correlation results\n",
    "correlations = []\n",
    "\n",
    "for movie_id in user_movie.columns:\n",
    "    if movie_id != id_pivot:  # skip the pivot movie itself\n",
    "        # extract the ratings \n",
    "        df_other_movie = pd.DataFrame(user_movie[movie_id].dropna()).rename(columns={movie_id: \"rating\"})\n",
    "        \n",
    "        # Compute the correlation between the pivot movie and the current movie\n",
    "        corr = df_pivot.corrwith(df_other_movie)[0]  # corrwith returns a series, so extract the scalar value\n",
    "        \n",
    "        # Store the result in the list \n",
    "        correlations.append((movie_id, corr))\n",
    "\n",
    "        \n",
    "similarity_to_pivot = pd.DataFrame(correlations, columns=[\"movie_id\", \"corr_with_pivot\"])\n",
    "\n",
    "print(similarity_to_pivot.head())\n"
   ]
  },
  {
   "cell_type": "markdown",
   "metadata": {},
   "source": [
    "<font size=\"+1\" color=\"red\">Replace this cell with code to create a \"corr_with_pivot\" dataframe as specified above, and to print the 20 movies (rated 500 times or more) with the highest correlation with the selected movie.</font>"
   ]
  },
  {
   "cell_type": "code",
   "execution_count": 19,
   "metadata": {},
   "outputs": [
    {
     "name": "stdout",
     "output_type": "stream",
     "text": [
      "                                                  title  movie_id  \\\n",
      "1113      Lord of the Rings: The Two Towers, The (2002)      5952   \n",
      "1112  Lord of the Rings: The Return of the King, The...      7153   \n",
      "1353                                  Open Range (2003)      6617   \n",
      "536                           Dogtown and Z-Boyz (2001)      5325   \n",
      "1418  Pirates of the Caribbean: The Curse of the Bla...      6539   \n",
      "133                       Assault on Precinct 13 (2005)     31420   \n",
      "1377                               Pacifier, The (2005)     32017   \n",
      "721   Ghost in the Shell 2: Innocence (a.k.a. Innoce...     27728   \n",
      "149                                  Bad Company (2002)      5414   \n",
      "801     Harry Potter and the Prisoner of Azkaban (2004)      8368   \n",
      "740                                    Gladiator (2000)      3578   \n",
      "518                                     Dinosaur (2000)      3615   \n",
      "582                               Ella Enchanted (2004)      7380   \n",
      "2030                                       X-Men (2000)      3793   \n",
      "446   Crimson Rivers, The (RiviÃ¨res pourpres, Les) ...      4383   \n",
      "802   Harry Potter and the Sorcerer's Stone (a.k.a. ...      4896   \n",
      "597         Enron: The Smartest Guys in the Room (2005)     33154   \n",
      "3                                 102 Dalmatians (2000)      3991   \n",
      "1586               Sea Inside, The (Mar adentro) (2004)     27803   \n",
      "175                                      Be Cool (2005)     32019   \n",
      "\n",
      "      ratings_mean  ratings_count  corr_with_pivot  \n",
      "1113      4.083869           5449         0.892103  \n",
      "1112      4.083960           5449         0.892073  \n",
      "1353      3.464497            169         0.422918  \n",
      "536       3.764706            119         0.395867  \n",
      "1418      3.779241           3950         0.377599  \n",
      "133       3.064286            140         0.359854  \n",
      "1377      2.717213            122         0.355284  \n",
      "721       3.775132            189         0.346813  \n",
      "149       2.727679            112         0.342276  \n",
      "801       3.809971           2397         0.340934  \n",
      "740       3.951050           4811         0.337667  \n",
      "518       3.019934            301         0.331826  \n",
      "582       3.214286            182         0.331732  \n",
      "2030      3.556436           3535         0.329686  \n",
      "446       3.303738            107         0.320942  \n",
      "802       3.678509           2843         0.319180  \n",
      "597       3.893293            164         0.318255  \n",
      "3         2.334975            203         0.317349  \n",
      "1586      3.827500            200         0.316450  \n",
      "175       2.758197            122         0.315363  \n"
     ]
    }
   ],
   "source": [
    "#I had to reset the index to make the column title appear\n",
    "ratings_summary_reset = ratings_summary.reset_index()\n",
    "\n",
    "\n",
    "# merge similarity_to_pivot with ratings_summary on movie_id\n",
    "corr_with_pivot = ratings_summary_reset.merge(similarity_to_pivot, on=\"movie_id\", how='left')\n",
    "\n",
    "# filter for movies with ratings_count > 500 \n",
    "corr_with_pivot = corr_with_pivot[corr_with_pivot['ratings_count'] > 500]\n",
    "\n",
    "# sort the dataframe in descending order\n",
    "corr_with_pivot = corr_with_pivot.sort_values(by=\"corr_with_pivot\", ascending=False)\n",
    "\n",
    "print(corr_with_pivot.head(20))"
   ]
  },
  {
   "cell_type": "markdown",
   "metadata": {},
   "source": [
    "<font size=\"+1\" color=\"red\">Replace this cell with a brief commentary about the movies you see on this list. What happens if you set the condition on *ratings_count* to a much larger value? What happens if you set it to a much smaller value?</font>"
   ]
  },
  {
   "cell_type": "markdown",
   "metadata": {},
   "source": [
    "Obiously the film that has the higher correlation is another Lord of the rings film. And the other films are also fiction and adventure films. If we increase the count of the rating we only get very popular films, and if we decrease it, we get less known films  "
   ]
  },
  {
   "cell_type": "markdown",
   "metadata": {},
   "source": [
    "# 2.4. Implement the item-based recommendations"
   ]
  },
  {
   "cell_type": "markdown",
   "metadata": {},
   "source": [
    "<font size=\"+1\" color=\"red\">Replace this cell with your code to compute all correlations between columns (movies) in the matrix user_movie. Store this in \"item_similarity\", and print the first 10 rows.</font>"
   ]
  },
  {
   "cell_type": "markdown",
   "metadata": {},
   "source": [
    "<font size=\"+1\" color=\"red\">Replace this cell with your code to compute all correlations between columns (movies) in the matrix user_movie, but considering only movies having at least 100 ratings in common. Store this in \"item_similarity_min_ratings\"</font>"
   ]
  },
  {
   "cell_type": "markdown",
   "metadata": {},
   "source": [
    "<font size=\"+1\" color=\"red\">Replace this cell with your code to find the userids of two example users: user_id_super (the who liked the three superhero movies), and user_id_drama (the one who liked the three dramas)</font>"
   ]
  },
  {
   "cell_type": "code",
   "execution_count": 20,
   "metadata": {},
   "outputs": [],
   "source": [
    "# Leave this code as-is\n",
    "\n",
    "# Gets a list of watched movies for a user_id\n",
    "def get_watched_movies(user_id, user_movie):\n",
    "    return list(user_movie.loc[user_id].dropna().sort_values(ascending=False).index)\n",
    "    \n",
    "# Gets the rating a user_id has given to a movie_id\n",
    "def get_rating(user_id, movie_id, user_movie):\n",
    "    return user_movie[movie_id][user_id]\n",
    "\n",
    "# Print watched movies\n",
    "def print_watched_movies(user_id, user_movie, movies):\n",
    "    for movie_id in get_watched_movies(user_id, user_movie):\n",
    "        print(\"%d %.1f %s \" %\n",
    "          (movie_id, get_rating(user_id, movie_id, user_movie), get_title(movie_id, movies)))\n"
   ]
  },
  {
   "cell_type": "code",
   "execution_count": 21,
   "metadata": {},
   "outputs": [
    {
     "ename": "NameError",
     "evalue": "name 'user_id_super' is not defined",
     "output_type": "error",
     "traceback": [
      "\u001b[0;31m---------------------------------------------------------------------------\u001b[0m",
      "\u001b[0;31mNameError\u001b[0m                                 Traceback (most recent call last)",
      "\u001b[0;32m<ipython-input-21-22dcc083ebcc>\u001b[0m in \u001b[0;36m<module>\u001b[0;34m\u001b[0m\n\u001b[1;32m      1\u001b[0m \u001b[0;31m# LEAVE AS-IS (TESTING CODE)\u001b[0m\u001b[0;34m\u001b[0m\u001b[0;34m\u001b[0m\u001b[0;34m\u001b[0m\u001b[0m\n\u001b[1;32m      2\u001b[0m \u001b[0;34m\u001b[0m\u001b[0m\n\u001b[0;32m----> 3\u001b[0;31m \u001b[0mprint_watched_movies\u001b[0m\u001b[0;34m(\u001b[0m\u001b[0muser_id_super\u001b[0m\u001b[0;34m,\u001b[0m \u001b[0muser_movie\u001b[0m\u001b[0;34m,\u001b[0m \u001b[0mmovies\u001b[0m\u001b[0;34m)\u001b[0m\u001b[0;34m\u001b[0m\u001b[0;34m\u001b[0m\u001b[0m\n\u001b[0m",
      "\u001b[0;31mNameError\u001b[0m: name 'user_id_super' is not defined"
     ]
    }
   ],
   "source": [
    "# LEAVE AS-IS (TESTING CODE)\n",
    "\n",
    "print_watched_movies(user_id_super, user_movie, movies)"
   ]
  },
  {
   "cell_type": "code",
   "execution_count": null,
   "metadata": {},
   "outputs": [],
   "source": [
    "# LEAVE AS-IS (TESTING CODE)\n",
    "\n",
    "print_watched_movies(user_id_drama, user_movie, movies)"
   ]
  },
  {
   "cell_type": "markdown",
   "metadata": {},
   "source": [
    "<font size=\"+1\" color=\"red\">Replace this cell with your code for \"get_movies_relevance\"</font>"
   ]
  },
  {
   "cell_type": "markdown",
   "metadata": {},
   "source": [
    "<font size=\"+1\" color=\"red\">Replace this cell with your code to obtain the 5 most relevant movies for the users user_id_super (who likes superhero movies) and user_id_drama (who likes dramas)</font>"
   ]
  },
  {
   "cell_type": "markdown",
   "metadata": {},
   "source": [
    "<font size=\"+1\" color=\"red\">Replace this cell with a brief commentary on the movies you see on these lists. How many of them look relevant for the intended users? Feel free to use IMDB or Wikipedia to get info on these movies.</font>\n",
    "\n",
    "<font size=\"-1\" color=\"gray\">All those trivial facts you learned about 1980s and 1990s pop culture were supposed to be useful one day; that day has arrived :-)</font>"
   ]
  },
  {
   "cell_type": "markdown",
   "metadata": {},
   "source": [
    "<font size=\"+1\" color=\"red\">Replace this cell with your code implementing \"get_recommended_movies\"</font>"
   ]
  },
  {
   "cell_type": "markdown",
   "metadata": {},
   "source": [
    "<font size=\"+1\" color=\"red\">Replace this cell with your code to obtain the 10 most recommended movies for the users user_id_super and user_id_drama</font>"
   ]
  },
  {
   "cell_type": "markdown",
   "metadata": {},
   "source": [
    "<font size=\"+1\" color=\"red\">Replace this cell with a brief commentary on these recommendations. Do you think they are relevant? Why or why not? After removing the movies the user has already watched, are the relevance scores of the remaining items comparable to the previous lists that contained all relevant movies?</font>"
   ]
  },
  {
   "cell_type": "markdown",
   "metadata": {},
   "source": [
    "<font size=\"+2\" color=\"#003300\">I hereby declare that, except for the code provided by the course instructors, all of my code, report, and figures were produced by myself.</font>"
   ]
  }
 ],
 "metadata": {
  "kernelspec": {
   "display_name": "Python 3",
   "language": "python",
   "name": "python3"
  },
  "language_info": {
   "codemirror_mode": {
    "name": "ipython",
    "version": 3
   },
   "file_extension": ".py",
   "mimetype": "text/x-python",
   "name": "python",
   "nbconvert_exporter": "python",
   "pygments_lexer": "ipython3",
   "version": "3.8.8"
  }
 },
 "nbformat": 4,
 "nbformat_minor": 2
}
