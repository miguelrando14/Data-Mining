{
 "cells": [
  {
   "cell_type": "markdown",
   "metadata": {},
   "source": [
    "# Practice Session 04: Basket analysis"
   ]
  },
  {
   "cell_type": "markdown",
   "metadata": {},
   "source": [
    "Author: <font color=\"blue\">Miguel Rando Ramirez</font>\n",
    "\n",
    "E-mail: <font color=\"blue\">miguel_rando01@estudiant.upf.edu</font>\n",
    "\n",
    "Date: <font color=\"blue\">15/10/2024</font>"
   ]
  },
  {
   "cell_type": "code",
   "execution_count": 97,
   "metadata": {},
   "outputs": [],
   "source": [
    "import numpy as np  \n",
    "import matplotlib.pyplot as plt  \n",
    "import pandas as pd  \n",
    "import csv\n",
    "import gzip\n",
    "\n",
    "from apyori import apriori"
   ]
  },
  {
   "cell_type": "markdown",
   "metadata": {},
   "source": [
    "# 1. Playing with apyori"
   ]
  },
  {
   "cell_type": "code",
   "execution_count": 98,
   "metadata": {},
   "outputs": [],
   "source": [
    "# LEAVE AS-IS\n",
    "\n",
    "def print_apyori_output (association_results, info=False, info_key=False):\n",
    "    for relation_record in association_results:\n",
    "        itemset = list(relation_record.items)\n",
    "        \n",
    "        # Consider only itemsets of two elements\n",
    "        if len(itemset) > 1: \n",
    "        \n",
    "            print(\"Rules involving itemset %s\" % itemset)\n",
    "            support = relation_record.support\n",
    "\n",
    "            for rules in relation_record.ordered_statistics:\n",
    "                antecedent = list(rules.items_base)\n",
    "                consequent = list(rules.items_add)\n",
    "                \n",
    "                if info_key:\n",
    "                    antecedent = [info.loc[x][info_key] for x in antecedent]\n",
    "                    consequent = [info.loc[x][info_key] for x in consequent]\n",
    "                \n",
    "                confidence = rules.confidence\n",
    "                lift = rules.lift\n",
    "\n",
    "                print(\"%s => %s (support=%.4f, confidence=%.2f, lift=%.2f)\" %\n",
    "                      (antecedent, consequent, support, confidence, lift))\n",
    "            print()"
   ]
  },
  {
   "cell_type": "markdown",
   "metadata": {},
   "source": [
    "<font size=\"+1\" color=\"red\">Replace this cell with your own example of transactions (at least 20 transactions). Execute the apriori algorithm, in which you should obtain at least <strong>two</strong> rules of the form ['A', 'B'] => ['C'], i.e., at least two rules having a 2-itemset in the antecedent and a 1-itemset in the consequent. Modify the transactions until you obtain such rules.</font>\n",
    "\n"
   ]
  },
  {
   "cell_type": "code",
   "execution_count": 99,
   "metadata": {
    "scrolled": true
   },
   "outputs": [
    {
     "name": "stdout",
     "output_type": "stream",
     "text": [
      "Rules involving itemset ['Beer', 'Bread']\n",
      "['Beer'] => ['Bread'] (support=0.2381, confidence=0.62, lift=1.01)\n",
      "\n",
      "Rules involving itemset ['Butter', 'Bread']\n",
      "['Bread'] => ['Butter'] (support=0.3333, confidence=0.54, lift=1.13)\n",
      "['Butter'] => ['Bread'] (support=0.3333, confidence=0.70, lift=1.13)\n",
      "\n",
      "Rules involving itemset ['Bread', 'Milk']\n",
      "['Bread'] => ['Milk'] (support=0.3810, confidence=0.62, lift=1.17)\n",
      "['Milk'] => ['Bread'] (support=0.3810, confidence=0.73, lift=1.17)\n",
      "\n",
      "Rules involving itemset ['Butter', 'Milk']\n",
      "['Butter'] => ['Milk'] (support=0.2857, confidence=0.60, lift=1.15)\n",
      "['Milk'] => ['Butter'] (support=0.2857, confidence=0.55, lift=1.15)\n",
      "\n",
      "Rules involving itemset ['Beer', 'Bread', 'Milk']\n",
      "['Beer', 'Bread'] => ['Milk'] (support=0.1429, confidence=0.60, lift=1.15)\n",
      "['Beer', 'Milk'] => ['Bread'] (support=0.1429, confidence=0.75, lift=1.21)\n",
      "\n",
      "Rules involving itemset ['Butter', 'Bread', 'Milk']\n",
      "['Butter', 'Bread'] => ['Milk'] (support=0.1905, confidence=0.57, lift=1.09)\n",
      "['Bread', 'Milk'] => ['Butter'] (support=0.1905, confidence=0.50, lift=1.05)\n",
      "['Butter', 'Milk'] => ['Bread'] (support=0.1905, confidence=0.67, lift=1.08)\n",
      "\n"
     ]
    }
   ],
   "source": [
    "transactions = [\n",
    "    ['Milk', 'Bread', 'Butter'],\n",
    "    ['Beer', 'Olives', 'Chips'],\n",
    "    ['Milk', 'Olives', 'Beer', 'Bread'],\n",
    "    ['Bread', 'Butter', 'Beer'],\n",
    "    ['Milk', 'Olives', 'Butter'],\n",
    "    ['Milk', 'Bread'],\n",
    "    ['Olives', 'Chips', 'Soda'],\n",
    "    ['Milk', 'Bread', 'Butter', 'Soda'],\n",
    "    ['Bread', 'Butter', 'Chips'],\n",
    "    ['Milk', 'Bread', 'Chips', 'Butter'],\n",
    "    ['Olives', 'Milk', 'Bread'],\n",
    "    ['Olives', 'Beer'],\n",
    "    ['Milk', 'Chips'],\n",
    "    ['Bread', 'Beer', 'Chips'],\n",
    "    ['Butter', 'Chips'],\n",
    "    ['Milk', 'Bread', 'Butter', 'Beer'],\n",
    "    ['Olives', 'Soda'],\n",
    "    ['Olives', 'Bread', 'Butter'],\n",
    "    ['Milk', 'Beer', 'Butter'],\n",
    "    ['Chips', 'Soda', 'Bread'],\n",
    "    ['Milk', 'Bread', 'Beer']  \n",
    "]\n",
    "\n",
    "\n",
    "results = list(apriori(transactions, min_support=0.1, min_confidence=0.5, min_lift=1.0, min_length=2))\n",
    "print_apyori_output(results)\n",
    "\n"
   ]
  },
  {
   "cell_type": "markdown",
   "metadata": {},
   "source": [
    "<font size=\"+1\" color=\"red\">Replace this cell with a markdown cell containing (1) a printout of the rules you have obtained, and (2) for each of those rules, indicate clearly how the support, confidence, and lift is calculated. Do not merely repeat the formula: indicate how each number is computed based on the transactions you provided, as if you were trying to verify that the numbers are correct.</font>"
   ]
  },
  {
   "cell_type": "markdown",
   "metadata": {},
   "source": [
    "I dont know why it appear some rules with only one rule in the antecedent if I have set the min_length of the antecedent to be 2. Any way we have this rules:\n",
    "\n",
    "\n",
    "Rules involving itemset ['Beer', 'Bread', 'Milk'] \n",
    "\n",
    "['Beer', 'Bread'] => ['Milk'] (support=0.1429, confidence=0.60, lift=1.15) \n",
    "\n",
    "['Beer', 'Milk'] => ['Bread'] (support=0.1429, confidence=0.75, lift=1.21)\n",
    "\n",
    "\n",
    "Rules involving itemset ['Butter', 'Bread', 'Milk'] \n",
    "\n",
    "['Butter', 'Bread'] => ['Milk'] (support=0.1905, confidence=0.57, lift=1.09) \n",
    "\n",
    "['Bread', 'Milk'] => ['Butter'] (support=0.1905, confidence=0.50, lift=1.05) \n",
    "\n",
    "['Butter', 'Milk'] => ['Bread'] (support=0.1905, confidence=0.67, lift=1.08)"
   ]
  },
  {
   "cell_type": "markdown",
   "metadata": {},
   "source": [
    "Im only going to explain these two rules:\n",
    "\n",
    "['Beer', 'Bread'] => ['Milk']\n",
    "\n",
    "Support:\n",
    "There are 3 transactions that have those 3 items. Then 3/21 = 0.1429 (21 is the total num of transactions)\n",
    "Confidence:\n",
    "There are 5 rules that contain the antecedent (beer, bread). So we divide the transaction where the 3 appear between the number of rules where the antecedent appear. Then 3/5 = 0.6 \n",
    "Lift: \n",
    "Here we calculate the support of milk. 8/21 = 0.38\n",
    "Then the lift is the confidence between the support of milk. 0.6/0.38 = 1.15\n",
    "\n",
    "\n",
    "['Butter', 'Milk'] => ['Bread'] \n",
    "\n",
    "Support:\n",
    "There are 4 transactions that have those 3 items. Then 4/21 = 0.19 \n",
    "Confidence:\n",
    "There are 6 rules that contain the antecedent (butter, milk). So we divide the transactions where the 3 appear between the number of rules where the antecedent appear. Then 4/6 = 0.666 \n",
    "Lift: \n",
    "Here we calculate the support of Bread. 13/21 = 0.62\n",
    "Then the lift is the confidence between the support of bread. 0.67/0.62 = 1.08"
   ]
  },
  {
   "cell_type": "markdown",
   "metadata": {},
   "source": [
    "# 2. Load and prepare the shopping baskets"
   ]
  },
  {
   "cell_type": "code",
   "execution_count": 100,
   "metadata": {},
   "outputs": [
    {
     "data": {
      "text/html": [
       "<div>\n",
       "<style scoped>\n",
       "    .dataframe tbody tr th:only-of-type {\n",
       "        vertical-align: middle;\n",
       "    }\n",
       "\n",
       "    .dataframe tbody tr th {\n",
       "        vertical-align: top;\n",
       "    }\n",
       "\n",
       "    .dataframe thead th {\n",
       "        text-align: right;\n",
       "    }\n",
       "</style>\n",
       "<table border=\"1\" class=\"dataframe\">\n",
       "  <thead>\n",
       "    <tr style=\"text-align: right;\">\n",
       "      <th></th>\n",
       "      <th>product_name</th>\n",
       "      <th>department_id</th>\n",
       "    </tr>\n",
       "    <tr>\n",
       "      <th>product_id</th>\n",
       "      <th></th>\n",
       "      <th></th>\n",
       "    </tr>\n",
       "  </thead>\n",
       "  <tbody>\n",
       "    <tr>\n",
       "      <th>1</th>\n",
       "      <td>Chocolate Sandwich Cookies</td>\n",
       "      <td>19</td>\n",
       "    </tr>\n",
       "    <tr>\n",
       "      <th>2</th>\n",
       "      <td>All-Seasons Salt</td>\n",
       "      <td>13</td>\n",
       "    </tr>\n",
       "    <tr>\n",
       "      <th>3</th>\n",
       "      <td>Robust Golden Unsweetened Oolong Tea</td>\n",
       "      <td>7</td>\n",
       "    </tr>\n",
       "    <tr>\n",
       "      <th>4</th>\n",
       "      <td>Smart Ones Classic Favorites Mini Rigatoni Wit...</td>\n",
       "      <td>1</td>\n",
       "    </tr>\n",
       "    <tr>\n",
       "      <th>5</th>\n",
       "      <td>Green Chile Anytime Sauce</td>\n",
       "      <td>13</td>\n",
       "    </tr>\n",
       "    <tr>\n",
       "      <th>...</th>\n",
       "      <td>...</td>\n",
       "      <td>...</td>\n",
       "    </tr>\n",
       "    <tr>\n",
       "      <th>96</th>\n",
       "      <td>Sprinklez Confetti Fun Organic Toppings</td>\n",
       "      <td>13</td>\n",
       "    </tr>\n",
       "    <tr>\n",
       "      <th>97</th>\n",
       "      <td>Organic Chamomile Lemon Tea</td>\n",
       "      <td>7</td>\n",
       "    </tr>\n",
       "    <tr>\n",
       "      <th>98</th>\n",
       "      <td>2% Yellow American Cheese</td>\n",
       "      <td>16</td>\n",
       "    </tr>\n",
       "    <tr>\n",
       "      <th>99</th>\n",
       "      <td>Local Living Butter Lettuce</td>\n",
       "      <td>4</td>\n",
       "    </tr>\n",
       "    <tr>\n",
       "      <th>100</th>\n",
       "      <td>Peanut Butter &amp; Strawberry Jam Sandwich</td>\n",
       "      <td>1</td>\n",
       "    </tr>\n",
       "  </tbody>\n",
       "</table>\n",
       "<p>100 rows × 2 columns</p>\n",
       "</div>"
      ],
      "text/plain": [
       "                                                 product_name  department_id\n",
       "product_id                                                                  \n",
       "1                                  Chocolate Sandwich Cookies             19\n",
       "2                                            All-Seasons Salt             13\n",
       "3                        Robust Golden Unsweetened Oolong Tea              7\n",
       "4           Smart Ones Classic Favorites Mini Rigatoni Wit...              1\n",
       "5                                   Green Chile Anytime Sauce             13\n",
       "...                                                       ...            ...\n",
       "96                    Sprinklez Confetti Fun Organic Toppings             13\n",
       "97                                Organic Chamomile Lemon Tea              7\n",
       "98                                  2% Yellow American Cheese             16\n",
       "99                                Local Living Butter Lettuce              4\n",
       "100                   Peanut Butter & Strawberry Jam Sandwich              1\n",
       "\n",
       "[100 rows x 2 columns]"
      ]
     },
     "execution_count": 100,
     "metadata": {},
     "output_type": "execute_result"
    }
   ],
   "source": [
    "# LEAVE AS-IS\n",
    "\n",
    "# File names\n",
    "INPUT_PRODUCTS = \"instacart-products.csv\"\n",
    "INPUT_TRANSACTIONS = \"instacart-transactions.csv.gz\"\n",
    "\n",
    "# Read into a dataframe\n",
    "products = pd.read_csv(INPUT_PRODUCTS, delimiter=\",\")\n",
    "\n",
    "# Set product_id as index, and drop column aisle_id\n",
    "products = products.set_index('product_id').drop(columns=['aisle_id'])\n",
    "\n",
    "products.head(100)"
   ]
  },
  {
   "cell_type": "markdown",
   "metadata": {},
   "source": [
    "## 2.1. Select by department"
   ]
  },
  {
   "cell_type": "code",
   "execution_count": 101,
   "metadata": {},
   "outputs": [],
   "source": [
    "# LEAVE AS-IS\n",
    "\n",
    "DEPT_BAKERY = 3\n",
    "DEPT_VEGGIES = 4\n",
    "DEPT_ALCOHOL = 5\n",
    "DEPT_WORLD = 6\n",
    "DEPT_DRINKS = 7\n",
    "DEPT_PETS = 8\n",
    "DEPT_PHARMACY = 11\n",
    "DEPT_CLEANING = 17\n",
    "DEPT_BABIES = 18"
   ]
  },
  {
   "cell_type": "markdown",
   "metadata": {},
   "source": [
    "<font size=\"+1\" color=\"red\">Replace this cell with your code for *select_from_departments*.</font>"
   ]
  },
  {
   "cell_type": "code",
   "execution_count": 102,
   "metadata": {},
   "outputs": [],
   "source": [
    "def select_from_departments(products, product_ids, department_ids):\n",
    "    selected_product_ids = []\n",
    "    \n",
    "    # Iterate through the list of product IDs\n",
    "    for product_id in product_ids:\n",
    "        if products.loc[product_id]['department_id'] in department_ids:\n",
    "            selected_product_ids.append(product_id)\n",
    "    \n",
    "    return selected_product_ids"
   ]
  },
  {
   "cell_type": "markdown",
   "metadata": {},
   "source": [
    "<font size=\"+1\" color=\"red\">Replace this cell with code to test your function with three different test cases. Each test case is a list of items and a list of 1, 2, or 3 departments.</font>"
   ]
  },
  {
   "cell_type": "code",
   "execution_count": 103,
   "metadata": {},
   "outputs": [
    {
     "name": "stdout",
     "output_type": "stream",
     "text": [
      "Test 1 Products: []\n",
      "Test 2 Products: [57, 71, 111]\n",
      "Test 3 Products: [14]\n"
     ]
    }
   ],
   "source": [
    "# Test 1: \n",
    "test_1_product_ids = [1, 2, 3, 4, 5, 6]  \n",
    "test_1_department_ids = [DEPT_BAKERY]  # Only Bakery department\n",
    "result_1 = select_from_departments(products, test_1_product_ids, test_1_department_ids)\n",
    "print(\"Test 1 Products:\", result_1)\n",
    "\n",
    "# Test 2: This is the one provided before to check that the result is okay\n",
    "test_2_product_ids = [22, 26, 45, 54, 57, 71, 111, 112]\n",
    "test_2_department_ids = [DEPT_BAKERY, DEPT_CLEANING]  \n",
    "result_2 = select_from_departments(products, test_2_product_ids, test_2_department_ids)\n",
    "print(\"Test 2 Products:\", result_2)\n",
    "\n",
    "# Test 3: \n",
    "test_3_product_ids = [13, 14, 15, 16, 17, 18]  \n",
    "test_3_department_ids = [DEPT_ALCOHOL, DEPT_CLEANING, DEPT_PETS]  # Alcohol, Cleaning, and Pets departments\n",
    "result_3 = select_from_departments(products, test_3_product_ids, test_3_department_ids)\n",
    "print(\"Test 3 Products:\", result_3)"
   ]
  },
  {
   "cell_type": "markdown",
   "metadata": {},
   "source": [
    "## 2.2. Read and filter transactions"
   ]
  },
  {
   "cell_type": "markdown",
   "metadata": {},
   "source": [
    "<font size=\"+1\" color=\"red\">Replace this cell with your code to read transactions, keeping only items in DEPT_PHARMACY. Remember to stop after storing 5000 of the transactions read.</font>"
   ]
  },
  {
   "cell_type": "code",
   "execution_count": 104,
   "metadata": {},
   "outputs": [
    {
     "name": "stdout",
     "output_type": "stream",
     "text": [
      "Transactions read: 1000, Transactions stored: 102\n",
      "Transactions read: 2000, Transactions stored: 219\n",
      "Transactions read: 3000, Transactions stored: 313\n",
      "Transactions read: 4000, Transactions stored: 422\n",
      "Transactions read: 5000, Transactions stored: 526\n",
      "Transactions read: 6000, Transactions stored: 619\n",
      "Transactions read: 7000, Transactions stored: 722\n",
      "Transactions read: 8000, Transactions stored: 810\n",
      "Transactions read: 9000, Transactions stored: 920\n",
      "Transactions read: 10000, Transactions stored: 1046\n",
      "Transactions read: 11000, Transactions stored: 1152\n",
      "Transactions read: 12000, Transactions stored: 1245\n",
      "Transactions read: 13000, Transactions stored: 1352\n",
      "Transactions read: 14000, Transactions stored: 1459\n",
      "Transactions read: 15000, Transactions stored: 1559\n",
      "Transactions read: 16000, Transactions stored: 1663\n",
      "Transactions read: 17000, Transactions stored: 1753\n",
      "Transactions read: 18000, Transactions stored: 1854\n",
      "Transactions read: 19000, Transactions stored: 1943\n",
      "Transactions read: 20000, Transactions stored: 2066\n",
      "Transactions read: 21000, Transactions stored: 2184\n",
      "Transactions read: 22000, Transactions stored: 2284\n",
      "Transactions read: 23000, Transactions stored: 2375\n",
      "Transactions read: 24000, Transactions stored: 2480\n",
      "Transactions read: 25000, Transactions stored: 2588\n",
      "Transactions read: 26000, Transactions stored: 2705\n",
      "Transactions read: 27000, Transactions stored: 2806\n",
      "Transactions read: 28000, Transactions stored: 2903\n",
      "Transactions read: 29000, Transactions stored: 2999\n",
      "Transactions read: 30000, Transactions stored: 3091\n",
      "Transactions read: 31000, Transactions stored: 3194\n",
      "Transactions read: 32000, Transactions stored: 3307\n",
      "Transactions read: 33000, Transactions stored: 3408\n",
      "Transactions read: 34000, Transactions stored: 3503\n",
      "Transactions read: 35000, Transactions stored: 3595\n",
      "Transactions read: 36000, Transactions stored: 3703\n",
      "Transactions read: 37000, Transactions stored: 3813\n",
      "Transactions read: 38000, Transactions stored: 3912\n",
      "Transactions read: 39000, Transactions stored: 4019\n",
      "Transactions read: 40000, Transactions stored: 4119\n",
      "Transactions read: 41000, Transactions stored: 4210\n",
      "Transactions read: 42000, Transactions stored: 4310\n",
      "Transactions read: 43000, Transactions stored: 4419\n",
      "Transactions read: 44000, Transactions stored: 4524\n",
      "Transactions read: 45000, Transactions stored: 4633\n",
      "Transactions read: 46000, Transactions stored: 4731\n",
      "Transactions read: 47000, Transactions stored: 4822\n",
      "Transactions read: 48000, Transactions stored: 4926\n",
      "Total transactions read: 48881, Total transactions stored: 5000\n"
     ]
    }
   ],
   "source": [
    "transactions = []\n",
    "\n",
    "department_ids = [DEPT_PHARMACY]  \n",
    "\n",
    "# Open a compressed file\n",
    "with gzip.open(INPUT_TRANSACTIONS, \"rt\") as inputfile:\n",
    "    \n",
    "    # Create a CSV reader\n",
    "    reader = csv.reader(inputfile, delimiter=\",\")\n",
    "    \n",
    "    # Initialize a counter for transactions read\n",
    "    transactions_read = 0\n",
    "\n",
    "    # Iterate through the CSV file\n",
    "    for row in reader:\n",
    "        \n",
    "        # Convert to integers\n",
    "        items = [int(x) for x in row]\n",
    "        \n",
    "        # Filter the items based on department\n",
    "        filtered_items = select_from_departments(products, items, department_ids)\n",
    "        \n",
    "        # If we have filtered items, add to transactions\n",
    "        if filtered_items:\n",
    "            transactions.append(filtered_items)\n",
    "        \n",
    "        # Increment the transaction read counter\n",
    "        transactions_read += 1\n",
    "        \n",
    "        # Every 1000 transactions read, print the count\n",
    "        if transactions_read % 1000 == 0:\n",
    "            print(f\"Transactions read: {transactions_read}, Transactions stored: {len(transactions)}\")\n",
    "        \n",
    "        # Stop if we have stored 5000 transactions\n",
    "        if len(transactions) >= 5000:\n",
    "            break\n",
    "\n",
    "print(f\"Total transactions read: {transactions_read}, Total transactions stored: {len(transactions)}\")"
   ]
  },
  {
   "cell_type": "markdown",
   "metadata": {},
   "source": [
    "## 2.3. Extract association rules and comment on them"
   ]
  },
  {
   "cell_type": "markdown",
   "metadata": {},
   "source": [
    "<font size=\"+1\" color=\"red\">Replace this cell with your code to extract association rules from the read transactions.</font>"
   ]
  },
  {
   "cell_type": "code",
   "execution_count": 105,
   "metadata": {
    "scrolled": true
   },
   "outputs": [
    {
     "name": "stdout",
     "output_type": "stream",
     "text": [
      "Rules involving itemset [16825, 1406]\n",
      "['Vegan Nutritional Shake Sweet Vanilla Bean'] => ['Vegan Smooth Chocolate Nutritional Shake'] (support=0.0012, confidence=0.40, lift=80.00)\n",
      "['Vegan Smooth Chocolate Nutritional Shake'] => ['Vegan Nutritional Shake Sweet Vanilla Bean'] (support=0.0012, confidence=0.24, lift=80.00)\n",
      "\n",
      "Rules involving itemset [7976, 16019]\n",
      "['One Plant-Based Chocolate Flavor Nutritional Shake Drink Mix'] => ['All-In-One French Vanilla Nutritional Shake Sachet'] (support=0.0010, confidence=0.31, lift=97.66)\n",
      "['All-In-One French Vanilla Nutritional Shake Sachet'] => ['One Plant-Based Chocolate Flavor Nutritional Shake Drink Mix'] (support=0.0010, confidence=0.31, lift=97.66)\n",
      "\n",
      "Rules involving itemset [27544, 39162]\n",
      "['Lemon Verbena Hand Soap'] => ['Clean Day Basil Hand Soap'] (support=0.0018, confidence=0.12, lift=11.21)\n",
      "['Clean Day Basil Hand Soap'] => ['Lemon Verbena Hand Soap'] (support=0.0018, confidence=0.16, lift=11.21)\n",
      "\n"
     ]
    }
   ],
   "source": [
    "results = list(apriori(transactions, min_support=0.001, min_confidence=0.1, min_lift=0.6))\n",
    "print_apyori_output(results, products, 'product_name')"
   ]
  },
  {
   "cell_type": "markdown",
   "metadata": {},
   "source": [
    "<font size=\"+1\" color=\"red\">Replace this cell with a brief commentary on what you would recommend to the shopping app considering the extracted association rules.</font>"
   ]
  },
  {
   "cell_type": "markdown",
   "metadata": {},
   "source": [
    "In the first rule we can see that the 40% of the people who buy the chocolate shake, also buy the vanilla shake. So they can offer these shakes as a combo pack or provide discounts on the second product to increase sales.\n",
    "The second rule is a similar case.\n",
    "At the last rule we can see that the 16% of the people who buy the Basil Soap also buy the lemon one. And I would do the same.\n",
    "\n",
    "Also, of course, I would put this items close between them in the store.\n"
   ]
  },
  {
   "cell_type": "markdown",
   "metadata": {},
   "source": [
    "## 2.4. Extract association rules and comment on them (other departments)"
   ]
  },
  {
   "cell_type": "code",
   "execution_count": 106,
   "metadata": {},
   "outputs": [
    {
     "name": "stdout",
     "output_type": "stream",
     "text": [
      "Transactions read: 1000, Transactions stored: 289\n",
      "Transactions read: 2000, Transactions stored: 574\n",
      "Transactions read: 3000, Transactions stored: 906\n",
      "Transactions read: 4000, Transactions stored: 1202\n",
      "Transactions read: 5000, Transactions stored: 1502\n",
      "Transactions read: 6000, Transactions stored: 1799\n",
      "Transactions read: 7000, Transactions stored: 2091\n",
      "Transactions read: 8000, Transactions stored: 2392\n",
      "Transactions read: 9000, Transactions stored: 2692\n",
      "Transactions read: 10000, Transactions stored: 3002\n",
      "Transactions read: 11000, Transactions stored: 3252\n",
      "Transactions read: 12000, Transactions stored: 3545\n",
      "Transactions read: 13000, Transactions stored: 3839\n",
      "Transactions read: 14000, Transactions stored: 4143\n",
      "Transactions read: 15000, Transactions stored: 4413\n",
      "Transactions read: 16000, Transactions stored: 4718\n",
      "Transactions read: 17000, Transactions stored: 4997\n",
      "Total transactions read: 17006, Total transactions stored: 5000\n"
     ]
    }
   ],
   "source": [
    "transactions = []\n",
    "\n",
    "department_ids = [DEPT_BAKERY, DEPT_ALCOHOL]  \n",
    "\n",
    "# Open a compressed file\n",
    "with gzip.open(INPUT_TRANSACTIONS, \"rt\") as inputfile:\n",
    "    \n",
    "    # Create a CSV reader\n",
    "    reader = csv.reader(inputfile, delimiter=\",\")\n",
    "    \n",
    "    # Initialize a counter for transactions read\n",
    "    transactions_read = 0\n",
    "\n",
    "    # Iterate through the CSV file\n",
    "    for row in reader:\n",
    "        \n",
    "        # Convert to integers\n",
    "        items = [int(x) for x in row]\n",
    "        \n",
    "        # Filter the items based on department\n",
    "        filtered_items = select_from_departments(products, items, department_ids)\n",
    "        \n",
    "        # If we have filtered items, add to transactions\n",
    "        if filtered_items:\n",
    "            transactions.append(filtered_items)\n",
    "        \n",
    "        # Increment the transaction read counter\n",
    "        transactions_read += 1\n",
    "        \n",
    "        # Every 1000 transactions read, print the count\n",
    "        if transactions_read % 1000 == 0:\n",
    "            print(f\"Transactions read: {transactions_read}, Transactions stored: {len(transactions)}\")\n",
    "        \n",
    "        # Stop if we have stored 5000 transactions\n",
    "        if len(transactions) >= 5000:\n",
    "            break\n",
    "\n",
    "print(f\"Total transactions read: {transactions_read}, Total transactions stored: {len(transactions)}\")"
   ]
  },
  {
   "cell_type": "code",
   "execution_count": 107,
   "metadata": {},
   "outputs": [
    {
     "name": "stdout",
     "output_type": "stream",
     "text": [
      "Rules involving itemset [2120, 41131]\n",
      "['Sauvignon Blanc'] => ['India Pale Ale'] (support=0.0012, confidence=0.13, lift=20.20)\n",
      "['India Pale Ale'] => ['Sauvignon Blanc'] (support=0.0012, confidence=0.18, lift=20.20)\n",
      "\n",
      "Rules involving itemset [17706, 5077]\n",
      "['Organic Whole Grain Wheat English Muffins'] => ['100% Whole Wheat Bread'] (support=0.0018, confidence=0.11, lift=1.68)\n",
      "\n",
      "Rules involving itemset [42460, 5077]\n",
      "['Plain Mini Bagels'] => ['100% Whole Wheat Bread'] (support=0.0010, confidence=0.14, lift=2.07)\n",
      "\n",
      "Rules involving itemset [5077, 48183]\n",
      "['Flour Tortillas'] => ['100% Whole Wheat Bread'] (support=0.0010, confidence=0.19, lift=2.87)\n",
      "\n",
      "Rules involving itemset [10673, 17341]\n",
      "['Presliced Everything Bagels'] => ['Original Nooks & Crannies English Muffins'] (support=0.0014, confidence=0.16, lift=9.36)\n",
      "\n",
      "Rules involving itemset [20682, 17341]\n",
      "['Presliced Everything Bagels'] => ['Cinnamon Raisin Swirl Pre-Sliced Bagels'] (support=0.0012, confidence=0.14, lift=21.31)\n",
      "['Cinnamon Raisin Swirl Pre-Sliced Bagels'] => ['Presliced Everything Bagels'] (support=0.0012, confidence=0.19, lift=21.31)\n",
      "\n",
      "Rules involving itemset [46842, 17341]\n",
      "['Presliced Everything Bagels'] => ['Plain Pre-Sliced Bagels'] (support=0.0010, confidence=0.11, lift=12.35)\n",
      "['Plain Pre-Sliced Bagels'] => ['Presliced Everything Bagels'] (support=0.0010, confidence=0.11, lift=12.35)\n",
      "\n",
      "Rules involving itemset [46088, 41131]\n",
      "['India Pale Ale'] => ['Beer'] (support=0.0016, confidence=0.24, lift=41.80)\n",
      "['Beer'] => ['India Pale Ale'] (support=0.0016, confidence=0.28, lift=41.80)\n",
      "\n"
     ]
    }
   ],
   "source": [
    "results = list(apriori(transactions, min_support=0.001, min_confidence=0.1, min_lift=0.6))\n",
    "print_apyori_output(results, products, 'product_name')"
   ]
  },
  {
   "cell_type": "markdown",
   "metadata": {},
   "source": [
    "We can see that between these two departaments, there are no relation between the porducts.\n",
    "The rules obtained are between products of the same departament. Then, we see that bakery most of the rules are bakery products. That is normal as it is easier to buy different pieces of bakery, while wen people is going to buy alcohol, usually only buy one item. Any way the Pale Ale is related with the Sauvignon blanc and with the beer."
   ]
  },
  {
   "cell_type": "markdown",
   "metadata": {},
   "source": [
    "<font size=\"+2\" color=\"#003300\">I hereby declare that, except for the code provided by the course instructors, all of my code, report, and figures were produced by myself.</font>"
   ]
  }
 ],
 "metadata": {
  "kernelspec": {
   "display_name": "Python 3",
   "language": "python",
   "name": "python3"
  },
  "language_info": {
   "codemirror_mode": {
    "name": "ipython",
    "version": 3
   },
   "file_extension": ".py",
   "mimetype": "text/x-python",
   "name": "python",
   "nbconvert_exporter": "python",
   "pygments_lexer": "ipython3",
   "version": "3.8.8"
  }
 },
 "nbformat": 4,
 "nbformat_minor": 2
}
